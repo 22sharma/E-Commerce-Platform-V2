{
 "cells": [
  {
   "cell_type": "markdown",
   "id": "1ce73e6c",
   "metadata": {
    "papermill": {
     "duration": 0.010501,
     "end_time": "2024-05-05T23:44:33.663398",
     "exception": false,
     "start_time": "2024-05-05T23:44:33.652897",
     "status": "completed"
    },
    "tags": []
   },
   "source": [
    "Import neccesary packages and toolkits"
   ]
  },
  {
   "cell_type": "code",
   "execution_count": 1,
   "id": "4f1441ee",
   "metadata": {
    "execution": {
     "iopub.execute_input": "2024-05-05T23:44:33.689252Z",
     "iopub.status.busy": "2024-05-05T23:44:33.688638Z",
     "iopub.status.idle": "2024-05-05T23:44:37.815560Z",
     "shell.execute_reply": "2024-05-05T23:44:37.814109Z"
    },
    "papermill": {
     "duration": 4.142371,
     "end_time": "2024-05-05T23:44:37.819071",
     "exception": false,
     "start_time": "2024-05-05T23:44:33.676700",
     "status": "completed"
    },
    "tags": []
   },
   "outputs": [],
   "source": [
    "import pandas as pd\n",
    "import numpy as np\n",
    "import matplotlib.pyplot as plt\n",
    "import seaborn as sns\n",
    "\n",
    "plt.style.use('ggplot')\n",
    "\n",
    "import nltk"
   ]
  },
  {
   "cell_type": "markdown",
   "id": "62571805",
   "metadata": {
    "papermill": {
     "duration": 0.009306,
     "end_time": "2024-05-05T23:44:37.838598",
     "exception": false,
     "start_time": "2024-05-05T23:44:37.829292",
     "status": "completed"
    },
    "tags": []
   },
   "source": [
    "Read in data"
   ]
  },
  {
   "cell_type": "code",
   "execution_count": 2,
   "id": "3cbe684a",
   "metadata": {
    "execution": {
     "iopub.execute_input": "2024-05-05T23:44:37.860843Z",
     "iopub.status.busy": "2024-05-05T23:44:37.859895Z",
     "iopub.status.idle": "2024-05-05T23:44:46.470432Z",
     "shell.execute_reply": "2024-05-05T23:44:46.468850Z"
    },
    "papermill": {
     "duration": 8.62513,
     "end_time": "2024-05-05T23:44:46.473534",
     "exception": false,
     "start_time": "2024-05-05T23:44:37.848404",
     "status": "completed"
    },
    "tags": []
   },
   "outputs": [],
   "source": [
    "df = pd.read_csv('../input/amazon-fine-food-reviews/Reviews.csv')\n",
    "df = df.head(500)"
   ]
  },
  {
   "cell_type": "markdown",
   "id": "a5abf3a2",
   "metadata": {
    "papermill": {
     "duration": 0.009189,
     "end_time": "2024-05-05T23:44:46.492120",
     "exception": false,
     "start_time": "2024-05-05T23:44:46.482931",
     "status": "completed"
    },
    "tags": []
   },
   "source": [
    "Observe the data"
   ]
  },
  {
   "cell_type": "code",
   "execution_count": 3,
   "id": "b8fa41b7",
   "metadata": {
    "execution": {
     "iopub.execute_input": "2024-05-05T23:44:46.513486Z",
     "iopub.status.busy": "2024-05-05T23:44:46.513063Z",
     "iopub.status.idle": "2024-05-05T23:44:46.543822Z",
     "shell.execute_reply": "2024-05-05T23:44:46.542040Z"
    },
    "papermill": {
     "duration": 0.045506,
     "end_time": "2024-05-05T23:44:46.547433",
     "exception": false,
     "start_time": "2024-05-05T23:44:46.501927",
     "status": "completed"
    },
    "tags": []
   },
   "outputs": [
    {
     "data": {
      "text/html": [
       "<div>\n",
       "<style scoped>\n",
       "    .dataframe tbody tr th:only-of-type {\n",
       "        vertical-align: middle;\n",
       "    }\n",
       "\n",
       "    .dataframe tbody tr th {\n",
       "        vertical-align: top;\n",
       "    }\n",
       "\n",
       "    .dataframe thead th {\n",
       "        text-align: right;\n",
       "    }\n",
       "</style>\n",
       "<table border=\"1\" class=\"dataframe\">\n",
       "  <thead>\n",
       "    <tr style=\"text-align: right;\">\n",
       "      <th></th>\n",
       "      <th>Id</th>\n",
       "      <th>ProductId</th>\n",
       "      <th>UserId</th>\n",
       "      <th>ProfileName</th>\n",
       "      <th>HelpfulnessNumerator</th>\n",
       "      <th>HelpfulnessDenominator</th>\n",
       "      <th>Score</th>\n",
       "      <th>Time</th>\n",
       "      <th>Summary</th>\n",
       "      <th>Text</th>\n",
       "    </tr>\n",
       "  </thead>\n",
       "  <tbody>\n",
       "    <tr>\n",
       "      <th>0</th>\n",
       "      <td>1</td>\n",
       "      <td>B001E4KFG0</td>\n",
       "      <td>A3SGXH7AUHU8GW</td>\n",
       "      <td>delmartian</td>\n",
       "      <td>1</td>\n",
       "      <td>1</td>\n",
       "      <td>5</td>\n",
       "      <td>1303862400</td>\n",
       "      <td>Good Quality Dog Food</td>\n",
       "      <td>I have bought several of the Vitality canned d...</td>\n",
       "    </tr>\n",
       "    <tr>\n",
       "      <th>1</th>\n",
       "      <td>2</td>\n",
       "      <td>B00813GRG4</td>\n",
       "      <td>A1D87F6ZCVE5NK</td>\n",
       "      <td>dll pa</td>\n",
       "      <td>0</td>\n",
       "      <td>0</td>\n",
       "      <td>1</td>\n",
       "      <td>1346976000</td>\n",
       "      <td>Not as Advertised</td>\n",
       "      <td>Product arrived labeled as Jumbo Salted Peanut...</td>\n",
       "    </tr>\n",
       "    <tr>\n",
       "      <th>2</th>\n",
       "      <td>3</td>\n",
       "      <td>B000LQOCH0</td>\n",
       "      <td>ABXLMWJIXXAIN</td>\n",
       "      <td>Natalia Corres \"Natalia Corres\"</td>\n",
       "      <td>1</td>\n",
       "      <td>1</td>\n",
       "      <td>4</td>\n",
       "      <td>1219017600</td>\n",
       "      <td>\"Delight\" says it all</td>\n",
       "      <td>This is a confection that has been around a fe...</td>\n",
       "    </tr>\n",
       "    <tr>\n",
       "      <th>3</th>\n",
       "      <td>4</td>\n",
       "      <td>B000UA0QIQ</td>\n",
       "      <td>A395BORC6FGVXV</td>\n",
       "      <td>Karl</td>\n",
       "      <td>3</td>\n",
       "      <td>3</td>\n",
       "      <td>2</td>\n",
       "      <td>1307923200</td>\n",
       "      <td>Cough Medicine</td>\n",
       "      <td>If you are looking for the secret ingredient i...</td>\n",
       "    </tr>\n",
       "    <tr>\n",
       "      <th>4</th>\n",
       "      <td>5</td>\n",
       "      <td>B006K2ZZ7K</td>\n",
       "      <td>A1UQRSCLF8GW1T</td>\n",
       "      <td>Michael D. Bigham \"M. Wassir\"</td>\n",
       "      <td>0</td>\n",
       "      <td>0</td>\n",
       "      <td>5</td>\n",
       "      <td>1350777600</td>\n",
       "      <td>Great taffy</td>\n",
       "      <td>Great taffy at a great price.  There was a wid...</td>\n",
       "    </tr>\n",
       "  </tbody>\n",
       "</table>\n",
       "</div>"
      ],
      "text/plain": [
       "   Id   ProductId          UserId                      ProfileName  \\\n",
       "0   1  B001E4KFG0  A3SGXH7AUHU8GW                       delmartian   \n",
       "1   2  B00813GRG4  A1D87F6ZCVE5NK                           dll pa   \n",
       "2   3  B000LQOCH0   ABXLMWJIXXAIN  Natalia Corres \"Natalia Corres\"   \n",
       "3   4  B000UA0QIQ  A395BORC6FGVXV                             Karl   \n",
       "4   5  B006K2ZZ7K  A1UQRSCLF8GW1T    Michael D. Bigham \"M. Wassir\"   \n",
       "\n",
       "   HelpfulnessNumerator  HelpfulnessDenominator  Score        Time  \\\n",
       "0                     1                       1      5  1303862400   \n",
       "1                     0                       0      1  1346976000   \n",
       "2                     1                       1      4  1219017600   \n",
       "3                     3                       3      2  1307923200   \n",
       "4                     0                       0      5  1350777600   \n",
       "\n",
       "                 Summary                                               Text  \n",
       "0  Good Quality Dog Food  I have bought several of the Vitality canned d...  \n",
       "1      Not as Advertised  Product arrived labeled as Jumbo Salted Peanut...  \n",
       "2  \"Delight\" says it all  This is a confection that has been around a fe...  \n",
       "3         Cough Medicine  If you are looking for the secret ingredient i...  \n",
       "4            Great taffy  Great taffy at a great price.  There was a wid...  "
      ]
     },
     "execution_count": 3,
     "metadata": {},
     "output_type": "execute_result"
    }
   ],
   "source": [
    "df.head()"
   ]
  },
  {
   "cell_type": "code",
   "execution_count": 4,
   "id": "3eb15337",
   "metadata": {
    "execution": {
     "iopub.execute_input": "2024-05-05T23:44:46.569951Z",
     "iopub.status.busy": "2024-05-05T23:44:46.569535Z",
     "iopub.status.idle": "2024-05-05T23:44:46.578974Z",
     "shell.execute_reply": "2024-05-05T23:44:46.577937Z"
    },
    "papermill": {
     "duration": 0.024132,
     "end_time": "2024-05-05T23:44:46.581432",
     "exception": false,
     "start_time": "2024-05-05T23:44:46.557300",
     "status": "completed"
    },
    "tags": []
   },
   "outputs": [
    {
     "data": {
      "text/plain": [
       "'I have bought several of the Vitality canned dog food products and have found them all to be of good quality. The product looks more like a stew than a processed meat and it smells better. My Labrador is finicky and she appreciates this product better than  most.'"
      ]
     },
     "execution_count": 4,
     "metadata": {},
     "output_type": "execute_result"
    }
   ],
   "source": [
    "df['Text'].values[0]"
   ]
  },
  {
   "cell_type": "markdown",
   "id": "aec600e7",
   "metadata": {
    "papermill": {
     "duration": 0.009731,
     "end_time": "2024-05-05T23:44:46.601565",
     "exception": false,
     "start_time": "2024-05-05T23:44:46.591834",
     "status": "completed"
    },
    "tags": []
   },
   "source": [
    "Quick EDA"
   ]
  },
  {
   "cell_type": "code",
   "execution_count": 5,
   "id": "73f57d0f",
   "metadata": {
    "execution": {
     "iopub.execute_input": "2024-05-05T23:44:46.624914Z",
     "iopub.status.busy": "2024-05-05T23:44:46.624454Z",
     "iopub.status.idle": "2024-05-05T23:44:47.004743Z",
     "shell.execute_reply": "2024-05-05T23:44:47.003263Z"
    },
    "papermill": {
     "duration": 0.395929,
     "end_time": "2024-05-05T23:44:47.007431",
     "exception": false,
     "start_time": "2024-05-05T23:44:46.611502",
     "status": "completed"
    },
    "tags": []
   },
   "outputs": [
    {
     "data": {
      "image/png": "[encoded data removed]",
      "text/plain": [
       "<Figure size 1000x500 with 1 Axes>"
      ]
     },
     "metadata": {},
     "output_type": "display_data"
    }
   ],
   "source": [
    "ax = df['Score'].value_counts().sort_index().plot(kind='bar', title='Count of Reviews by Stars', figsize=(10, 5))\n",
    "ax.set_xlabel('Review Stars')\n",
    "plt.show()"
   ]
  },
  {
   "cell_type": "markdown",
   "id": "e3b4d15b",
   "metadata": {
    "papermill": {
     "duration": 0.010393,
     "end_time": "2024-05-05T23:44:47.028105",
     "exception": false,
     "start_time": "2024-05-05T23:44:47.017712",
     "status": "completed"
    },
    "tags": []
   },
   "source": [
    "Basic NLTK"
   ]
  },
  {
   "cell_type": "code",
   "execution_count": 6,
   "id": "06fe72fc",
   "metadata": {
    "execution": {
     "iopub.execute_input": "2024-05-05T23:44:47.052110Z",
     "iopub.status.busy": "2024-05-05T23:44:47.050828Z",
     "iopub.status.idle": "2024-05-05T23:44:47.058069Z",
     "shell.execute_reply": "2024-05-05T23:44:47.056850Z"
    },
    "papermill": {
     "duration": 0.021469,
     "end_time": "2024-05-05T23:44:47.060429",
     "exception": false,
     "start_time": "2024-05-05T23:44:47.038960",
     "status": "completed"
    },
    "tags": []
   },
   "outputs": [
    {
     "name": "stdout",
     "output_type": "stream",
     "text": [
      "This oatmeal is not good. Its mushy, soft, I don't like it. Quaker Oats is the way to go.\n"
     ]
    }
   ],
   "source": [
    "example = df['Text'][50]\n",
    "print(example)"
   ]
  },
  {
   "cell_type": "code",
   "execution_count": 7,
   "id": "6c759fa8",
   "metadata": {
    "execution": {
     "iopub.execute_input": "2024-05-05T23:44:47.083120Z",
     "iopub.status.busy": "2024-05-05T23:44:47.082402Z",
     "iopub.status.idle": "2024-05-05T23:44:47.108072Z",
     "shell.execute_reply": "2024-05-05T23:44:47.106835Z"
    },
    "papermill": {
     "duration": 0.040292,
     "end_time": "2024-05-05T23:44:47.110925",
     "exception": false,
     "start_time": "2024-05-05T23:44:47.070633",
     "status": "completed"
    },
    "tags": []
   },
   "outputs": [
    {
     "data": {
      "text/plain": [
       "['This', 'oatmeal', 'is', 'not', 'good', '.', 'Its', 'mushy', ',', 'soft']"
      ]
     },
     "execution_count": 7,
     "metadata": {},
     "output_type": "execute_result"
    }
   ],
   "source": [
    "tokens = nltk.word_tokenize(example)\n",
    "tokens[:10]"
   ]
  },
  {
   "cell_type": "code",
   "execution_count": 8,
   "id": "8a0cae10",
   "metadata": {
    "execution": {
     "iopub.execute_input": "2024-05-05T23:44:47.135057Z",
     "iopub.status.busy": "2024-05-05T23:44:47.134196Z",
     "iopub.status.idle": "2024-05-05T23:44:47.294605Z",
     "shell.execute_reply": "2024-05-05T23:44:47.293413Z"
    },
    "papermill": {
     "duration": 0.17575,
     "end_time": "2024-05-05T23:44:47.297231",
     "exception": false,
     "start_time": "2024-05-05T23:44:47.121481",
     "status": "completed"
    },
    "tags": []
   },
   "outputs": [
    {
     "data": {
      "text/plain": [
       "[('This', 'DT'),\n",
       " ('oatmeal', 'NN'),\n",
       " ('is', 'VBZ'),\n",
       " ('not', 'RB'),\n",
       " ('good', 'JJ'),\n",
       " ('.', '.'),\n",
       " ('Its', 'PRP$'),\n",
       " ('mushy', 'NN'),\n",
       " (',', ','),\n",
       " ('soft', 'JJ')]"
      ]
     },
     "execution_count": 8,
     "metadata": {},
     "output_type": "execute_result"
    }
   ],
   "source": [
    "tagged = nltk.pos_tag(tokens)\n",
    "tagged[:10]"
   ]
  },
  {
   "cell_type": "code",
   "execution_count": 9,
   "id": "bcb288e6",
   "metadata": {
    "execution": {
     "iopub.execute_input": "2024-05-05T23:44:47.320919Z",
     "iopub.status.busy": "2024-05-05T23:44:47.320178Z",
     "iopub.status.idle": "2024-05-05T23:44:47.473176Z",
     "shell.execute_reply": "2024-05-05T23:44:47.471983Z"
    },
    "papermill": {
     "duration": 0.167879,
     "end_time": "2024-05-05T23:44:47.475587",
     "exception": false,
     "start_time": "2024-05-05T23:44:47.307708",
     "status": "completed"
    },
    "tags": []
   },
   "outputs": [
    {
     "name": "stdout",
     "output_type": "stream",
     "text": [
      "(S\n",
      "  This/DT\n",
      "  oatmeal/NN\n",
      "  is/VBZ\n",
      "  not/RB\n",
      "  good/JJ\n",
      "  ./.\n",
      "  Its/PRP$\n",
      "  mushy/NN\n",
      "  ,/,\n",
      "  soft/JJ\n",
      "  ,/,\n",
      "  I/PRP\n",
      "  do/VBP\n",
      "  n't/RB\n",
      "  like/VB\n",
      "  it/PRP\n",
      "  ./.\n",
      "  (ORGANIZATION Quaker/NNP Oats/NNPS)\n",
      "  is/VBZ\n",
      "  the/DT\n",
      "  way/NN\n",
      "  to/TO\n",
      "  go/VB\n",
      "  ./.)\n"
     ]
    }
   ],
   "source": [
    "entities = nltk.chunk.ne_chunk(tagged)\n",
    "entities.pprint()"
   ]
  },
  {
   "cell_type": "markdown",
   "id": "3fe50925",
   "metadata": {
    "papermill": {
     "duration": 0.010372,
     "end_time": "2024-05-05T23:44:47.496606",
     "exception": false,
     "start_time": "2024-05-05T23:44:47.486234",
     "status": "completed"
    },
    "tags": []
   },
   "source": [
    "VADER Sentiment Scoring\n",
    "    using NLTK's SentimentIntensityAnalyzer to get negative/neutral/positive scores of text"
   ]
  },
  {
   "cell_type": "code",
   "execution_count": 10,
   "id": "32ca004e",
   "metadata": {
    "execution": {
     "iopub.execute_input": "2024-05-05T23:44:47.521121Z",
     "iopub.status.busy": "2024-05-05T23:44:47.520380Z",
     "iopub.status.idle": "2024-05-05T23:44:47.578436Z",
     "shell.execute_reply": "2024-05-05T23:44:47.575861Z"
    },
    "papermill": {
     "duration": 0.073624,
     "end_time": "2024-05-05T23:44:47.581237",
     "exception": false,
     "start_time": "2024-05-05T23:44:47.507613",
     "status": "completed"
    },
    "tags": []
   },
   "outputs": [
    {
     "name": "stderr",
     "output_type": "stream",
     "text": [
      "/opt/conda/lib/python3.10/site-packages/nltk/twitter/__init__.py:20: UserWarning: The twython library has not been installed. Some functionality from the twitter package will not be available.\n",
      "  warnings.warn(\"The twython library has not been installed. \"\n"
     ]
    }
   ],
   "source": [
    "from nltk.sentiment import SentimentIntensityAnalyzer\n",
    "from tqdm.notebook import tqdm\n",
    "\n",
    "sia = SentimentIntensityAnalyzer()"
   ]
  },
  {
   "cell_type": "markdown",
   "id": "71541538",
   "metadata": {
    "papermill": {
     "duration": 0.010862,
     "end_time": "2024-05-05T23:44:47.603071",
     "exception": false,
     "start_time": "2024-05-05T23:44:47.592209",
     "status": "completed"
    },
    "tags": []
   },
   "source": [
    "Examples of how SentimentIntensityAnalyzer works"
   ]
  },
  {
   "cell_type": "code",
   "execution_count": 11,
   "id": "6be1048e",
   "metadata": {
    "execution": {
     "iopub.execute_input": "2024-05-05T23:44:47.627856Z",
     "iopub.status.busy": "2024-05-05T23:44:47.627414Z",
     "iopub.status.idle": "2024-05-05T23:44:47.635240Z",
     "shell.execute_reply": "2024-05-05T23:44:47.633985Z"
    },
    "papermill": {
     "duration": 0.023465,
     "end_time": "2024-05-05T23:44:47.637789",
     "exception": false,
     "start_time": "2024-05-05T23:44:47.614324",
     "status": "completed"
    },
    "tags": []
   },
   "outputs": [
    {
     "data": {
      "text/plain": [
       "{'neg': 0.0, 'neu': 0.318, 'pos': 0.682, 'compound': 0.6468}"
      ]
     },
     "execution_count": 11,
     "metadata": {},
     "output_type": "execute_result"
    }
   ],
   "source": [
    "sia.polarity_scores('I am so happy!')"
   ]
  },
  {
   "cell_type": "code",
   "execution_count": 12,
   "id": "84b49239",
   "metadata": {
    "execution": {
     "iopub.execute_input": "2024-05-05T23:44:47.661555Z",
     "iopub.status.busy": "2024-05-05T23:44:47.661147Z",
     "iopub.status.idle": "2024-05-05T23:44:47.668928Z",
     "shell.execute_reply": "2024-05-05T23:44:47.667630Z"
    },
    "papermill": {
     "duration": 0.022446,
     "end_time": "2024-05-05T23:44:47.671333",
     "exception": false,
     "start_time": "2024-05-05T23:44:47.648887",
     "status": "completed"
    },
    "tags": []
   },
   "outputs": [
    {
     "data": {
      "text/plain": [
       "{'neg': 0.451, 'neu': 0.549, 'pos': 0.0, 'compound': -0.6249}"
      ]
     },
     "execution_count": 12,
     "metadata": {},
     "output_type": "execute_result"
    }
   ],
   "source": [
    "sia.polarity_scores('This is the worst thing ever.')"
   ]
  },
  {
   "cell_type": "markdown",
   "id": "d760c5b6",
   "metadata": {
    "papermill": {
     "duration": 0.011065,
     "end_time": "2024-05-05T23:44:47.693939",
     "exception": false,
     "start_time": "2024-05-05T23:44:47.682874",
     "status": "completed"
    },
    "tags": []
   },
   "source": [
    "Run on example from dataset"
   ]
  },
  {
   "cell_type": "code",
   "execution_count": 13,
   "id": "d39f7d0d",
   "metadata": {
    "execution": {
     "iopub.execute_input": "2024-05-05T23:44:47.718889Z",
     "iopub.status.busy": "2024-05-05T23:44:47.718398Z",
     "iopub.status.idle": "2024-05-05T23:44:47.725902Z",
     "shell.execute_reply": "2024-05-05T23:44:47.724762Z"
    },
    "papermill": {
     "duration": 0.022968,
     "end_time": "2024-05-05T23:44:47.728473",
     "exception": false,
     "start_time": "2024-05-05T23:44:47.705505",
     "status": "completed"
    },
    "tags": []
   },
   "outputs": [
    {
     "data": {
      "text/plain": [
       "{'neg': 0.22, 'neu': 0.78, 'pos': 0.0, 'compound': -0.5448}"
      ]
     },
     "execution_count": 13,
     "metadata": {},
     "output_type": "execute_result"
    }
   ],
   "source": [
    "sia.polarity_scores(example)"
   ]
  },
  {
   "cell_type": "markdown",
   "id": "6f72870a",
   "metadata": {
    "papermill": {
     "duration": 0.011008,
     "end_time": "2024-05-05T23:44:47.751102",
     "exception": false,
     "start_time": "2024-05-05T23:44:47.740094",
     "status": "completed"
    },
    "tags": []
   },
   "source": [
    "Run the polarity score on the entire dataset"
   ]
  },
  {
   "cell_type": "code",
   "execution_count": 14,
   "id": "0b7ebf70",
   "metadata": {
    "execution": {
     "iopub.execute_input": "2024-05-05T23:44:47.775727Z",
     "iopub.status.busy": "2024-05-05T23:44:47.775326Z",
     "iopub.status.idle": "2024-05-05T23:44:48.473137Z",
     "shell.execute_reply": "2024-05-05T23:44:48.471847Z"
    },
    "papermill": {
     "duration": 0.713365,
     "end_time": "2024-05-05T23:44:48.475818",
     "exception": false,
     "start_time": "2024-05-05T23:44:47.762453",
     "status": "completed"
    },
    "tags": []
   },
   "outputs": [
    {
     "data": {
      "application/vnd.jupyter.widget-view+json": {
       "model_id": "186b70c3967e45f588fa6926ad8c2b76",
       "version_major": 2,
       "version_minor": 0
      },
      "text/plain": [
       "  0%|          | 0/500 [00:00<?, ?it/s]"
      ]
     },
     "metadata": {},
     "output_type": "display_data"
    }
   ],
   "source": [
    "res = {}\n",
    "for i, row in tqdm(df.iterrows(), total=len(df)):\n",
    "    text = row['Text']\n",
    "    myid = row['Id']\n",
    "    res[myid] = sia.polarity_scores(text)"
   ]
  },
  {
   "cell_type": "markdown",
   "id": "388e1e4c",
   "metadata": {
    "papermill": {
     "duration": 0.011229,
     "end_time": "2024-05-05T23:44:48.498649",
     "exception": false,
     "start_time": "2024-05-05T23:44:48.487420",
     "status": "completed"
    },
    "tags": []
   },
   "source": [
    "Store res dictionary as pandas data frame and merge with original df"
   ]
  },
  {
   "cell_type": "code",
   "execution_count": 15,
   "id": "3be7cfaa",
   "metadata": {
    "execution": {
     "iopub.execute_input": "2024-05-05T23:44:48.524795Z",
     "iopub.status.busy": "2024-05-05T23:44:48.523378Z",
     "iopub.status.idle": "2024-05-05T23:44:48.557925Z",
     "shell.execute_reply": "2024-05-05T23:44:48.556841Z"
    },
    "papermill": {
     "duration": 0.050581,
     "end_time": "2024-05-05T23:44:48.560938",
     "exception": false,
     "start_time": "2024-05-05T23:44:48.510357",
     "status": "completed"
    },
    "tags": []
   },
   "outputs": [],
   "source": [
    "vaders = pd.DataFrame(res).T\n",
    "vaders = vaders.reset_index().rename(columns={'index': 'Id'})\n",
    "vaders = vaders.merge(df, how='left')"
   ]
  },
  {
   "cell_type": "markdown",
   "id": "a89f50f7",
   "metadata": {
    "papermill": {
     "duration": 0.012075,
     "end_time": "2024-05-05T23:44:48.584929",
     "exception": false,
     "start_time": "2024-05-05T23:44:48.572854",
     "status": "completed"
    },
    "tags": []
   },
   "source": [
    "Now we have sentiment score and metadata"
   ]
  },
  {
   "cell_type": "code",
   "execution_count": 16,
   "id": "58919c20",
   "metadata": {
    "execution": {
     "iopub.execute_input": "2024-05-05T23:44:48.610864Z",
     "iopub.status.busy": "2024-05-05T23:44:48.610416Z",
     "iopub.status.idle": "2024-05-05T23:44:48.635793Z",
     "shell.execute_reply": "2024-05-05T23:44:48.634446Z"
    },
    "papermill": {
     "duration": 0.042073,
     "end_time": "2024-05-05T23:44:48.639036",
     "exception": false,
     "start_time": "2024-05-05T23:44:48.596963",
     "status": "completed"
    },
    "tags": []
   },
   "outputs": [
    {
     "data": {
      "text/html": [
       "<div>\n",
       "<style scoped>\n",
       "    .dataframe tbody tr th:only-of-type {\n",
       "        vertical-align: middle;\n",
       "    }\n",
       "\n",
       "    .dataframe tbody tr th {\n",
       "        vertical-align: top;\n",
       "    }\n",
       "\n",
       "    .dataframe thead th {\n",
       "        text-align: right;\n",
       "    }\n",
       "</style>\n",
       "<table border=\"1\" class=\"dataframe\">\n",
       "  <thead>\n",
       "    <tr style=\"text-align: right;\">\n",
       "      <th></th>\n",
       "      <th>Id</th>\n",
       "      <th>neg</th>\n",
       "      <th>neu</th>\n",
       "      <th>pos</th>\n",
       "      <th>compound</th>\n",
       "      <th>ProductId</th>\n",
       "      <th>UserId</th>\n",
       "      <th>ProfileName</th>\n",
       "      <th>HelpfulnessNumerator</th>\n",
       "      <th>HelpfulnessDenominator</th>\n",
       "      <th>Score</th>\n",
       "      <th>Time</th>\n",
       "      <th>Summary</th>\n",
       "      <th>Text</th>\n",
       "    </tr>\n",
       "  </thead>\n",
       "  <tbody>\n",
       "    <tr>\n",
       "      <th>0</th>\n",
       "      <td>1</td>\n",
       "      <td>0.000</td>\n",
       "      <td>0.695</td>\n",
       "      <td>0.305</td>\n",
       "      <td>0.9441</td>\n",
       "      <td>B001E4KFG0</td>\n",
       "      <td>A3SGXH7AUHU8GW</td>\n",
       "      <td>delmartian</td>\n",
       "      <td>1</td>\n",
       "      <td>1</td>\n",
       "      <td>5</td>\n",
       "      <td>1303862400</td>\n",
       "      <td>Good Quality Dog Food</td>\n",
       "      <td>I have bought several of the Vitality canned d...</td>\n",
       "    </tr>\n",
       "    <tr>\n",
       "      <th>1</th>\n",
       "      <td>2</td>\n",
       "      <td>0.079</td>\n",
       "      <td>0.853</td>\n",
       "      <td>0.068</td>\n",
       "      <td>-0.1027</td>\n",
       "      <td>B00813GRG4</td>\n",
       "      <td>A1D87F6ZCVE5NK</td>\n",
       "      <td>dll pa</td>\n",
       "      <td>0</td>\n",
       "      <td>0</td>\n",
       "      <td>1</td>\n",
       "      <td>1346976000</td>\n",
       "      <td>Not as Advertised</td>\n",
       "      <td>Product arrived labeled as Jumbo Salted Peanut...</td>\n",
       "    </tr>\n",
       "    <tr>\n",
       "      <th>2</th>\n",
       "      <td>3</td>\n",
       "      <td>0.091</td>\n",
       "      <td>0.754</td>\n",
       "      <td>0.155</td>\n",
       "      <td>0.8265</td>\n",
       "      <td>B000LQOCH0</td>\n",
       "      <td>ABXLMWJIXXAIN</td>\n",
       "      <td>Natalia Corres \"Natalia Corres\"</td>\n",
       "      <td>1</td>\n",
       "      <td>1</td>\n",
       "      <td>4</td>\n",
       "      <td>1219017600</td>\n",
       "      <td>\"Delight\" says it all</td>\n",
       "      <td>This is a confection that has been around a fe...</td>\n",
       "    </tr>\n",
       "    <tr>\n",
       "      <th>3</th>\n",
       "      <td>4</td>\n",
       "      <td>0.000</td>\n",
       "      <td>1.000</td>\n",
       "      <td>0.000</td>\n",
       "      <td>0.0000</td>\n",
       "      <td>B000UA0QIQ</td>\n",
       "      <td>A395BORC6FGVXV</td>\n",
       "      <td>Karl</td>\n",
       "      <td>3</td>\n",
       "      <td>3</td>\n",
       "      <td>2</td>\n",
       "      <td>1307923200</td>\n",
       "      <td>Cough Medicine</td>\n",
       "      <td>If you are looking for the secret ingredient i...</td>\n",
       "    </tr>\n",
       "    <tr>\n",
       "      <th>4</th>\n",
       "      <td>5</td>\n",
       "      <td>0.000</td>\n",
       "      <td>0.552</td>\n",
       "      <td>0.448</td>\n",
       "      <td>0.9468</td>\n",
       "      <td>B006K2ZZ7K</td>\n",
       "      <td>A1UQRSCLF8GW1T</td>\n",
       "      <td>Michael D. Bigham \"M. Wassir\"</td>\n",
       "      <td>0</td>\n",
       "      <td>0</td>\n",
       "      <td>5</td>\n",
       "      <td>1350777600</td>\n",
       "      <td>Great taffy</td>\n",
       "      <td>Great taffy at a great price.  There was a wid...</td>\n",
       "    </tr>\n",
       "  </tbody>\n",
       "</table>\n",
       "</div>"
      ],
      "text/plain": [
       "   Id    neg    neu    pos  compound   ProductId          UserId  \\\n",
       "0   1  0.000  0.695  0.305    0.9441  B001E4KFG0  A3SGXH7AUHU8GW   \n",
       "1   2  0.079  0.853  0.068   -0.1027  B00813GRG4  A1D87F6ZCVE5NK   \n",
       "2   3  0.091  0.754  0.155    0.8265  B000LQOCH0   ABXLMWJIXXAIN   \n",
       "3   4  0.000  1.000  0.000    0.0000  B000UA0QIQ  A395BORC6FGVXV   \n",
       "4   5  0.000  0.552  0.448    0.9468  B006K2ZZ7K  A1UQRSCLF8GW1T   \n",
       "\n",
       "                       ProfileName  HelpfulnessNumerator  \\\n",
       "0                       delmartian                     1   \n",
       "1                           dll pa                     0   \n",
       "2  Natalia Corres \"Natalia Corres\"                     1   \n",
       "3                             Karl                     3   \n",
       "4    Michael D. Bigham \"M. Wassir\"                     0   \n",
       "\n",
       "   HelpfulnessDenominator  Score        Time                Summary  \\\n",
       "0                       1      5  1303862400  Good Quality Dog Food   \n",
       "1                       0      1  1346976000      Not as Advertised   \n",
       "2                       1      4  1219017600  \"Delight\" says it all   \n",
       "3                       3      2  1307923200         Cough Medicine   \n",
       "4                       0      5  1350777600            Great taffy   \n",
       "\n",
       "                                                Text  \n",
       "0  I have bought several of the Vitality canned d...  \n",
       "1  Product arrived labeled as Jumbo Salted Peanut...  \n",
       "2  This is a confection that has been around a fe...  \n",
       "3  If you are looking for the secret ingredient i...  \n",
       "4  Great taffy at a great price.  There was a wid...  "
      ]
     },
     "execution_count": 16,
     "metadata": {},
     "output_type": "execute_result"
    }
   ],
   "source": [
    "vaders.head()"
   ]
  },
  {
   "cell_type": "markdown",
   "id": "50c42070",
   "metadata": {
    "papermill": {
     "duration": 0.011921,
     "end_time": "2024-05-05T23:44:48.663464",
     "exception": false,
     "start_time": "2024-05-05T23:44:48.651543",
     "status": "completed"
    },
    "tags": []
   },
   "source": [
    "Plot VADER results"
   ]
  },
  {
   "cell_type": "code",
   "execution_count": 17,
   "id": "d7746218",
   "metadata": {
    "execution": {
     "iopub.execute_input": "2024-05-05T23:44:48.690178Z",
     "iopub.status.busy": "2024-05-05T23:44:48.689728Z",
     "iopub.status.idle": "2024-05-05T23:44:49.180283Z",
     "shell.execute_reply": "2024-05-05T23:44:49.179036Z"
    },
    "papermill": {
     "duration": 0.506937,
     "end_time": "2024-05-05T23:44:49.182868",
     "exception": false,
     "start_time": "2024-05-05T23:44:48.675931",
     "status": "completed"
    },
    "tags": []
   },
   "outputs": [
    {
     "data": {
      "text/plain": [
       "Text(0.5, 1.0, 'Compound Score by Amazon Star Review')"
      ]
     },
     "execution_count": 17,
     "metadata": {},
     "output_type": "execute_result"
    },
    {
     "data": {
      "image/png": "[encoded data removed]",
      "text/plain": [
       "<Figure size 640x480 with 1 Axes>"
      ]
     },
     "metadata": {},
     "output_type": "display_data"
    }
   ],
   "source": [
    "ax = sns.barplot(data=vaders, x='Score', y='compound')\n",
    "ax.set_title('Compound Score by Amazon Star Review')"
   ]
  },
  {
   "cell_type": "markdown",
   "id": "d03b96e5",
   "metadata": {
    "papermill": {
     "duration": 0.012646,
     "end_time": "2024-05-05T23:44:49.209113",
     "exception": false,
     "start_time": "2024-05-05T23:44:49.196467",
     "status": "completed"
    },
    "tags": []
   },
   "source": [
    "We can see that VADER is reliable in the terms of the connection between sentiment scores and rating reviews. "
   ]
  },
  {
   "cell_type": "code",
   "execution_count": 18,
   "id": "61168fac",
   "metadata": {
    "execution": {
     "iopub.execute_input": "2024-05-05T23:44:49.236867Z",
     "iopub.status.busy": "2024-05-05T23:44:49.236386Z",
     "iopub.status.idle": "2024-05-05T23:44:50.367416Z",
     "shell.execute_reply": "2024-05-05T23:44:50.366492Z"
    },
    "papermill": {
     "duration": 1.147832,
     "end_time": "2024-05-05T23:44:50.369913",
     "exception": false,
     "start_time": "2024-05-05T23:44:49.222081",
     "status": "completed"
    },
    "tags": []
   },
   "outputs": [
    {
     "data": {
      "image/png": "[encoded data removed]",
      "text/plain": [
       "<Figure size 1500x500 with 3 Axes>"
      ]
     },
     "metadata": {},
     "output_type": "display_data"
    }
   ],
   "source": [
    "fig, axs = plt.subplots(1, 3, figsize=(15, 5))\n",
    "sns.barplot(data=vaders, x = 'Score', y='pos', ax=axs[0])\n",
    "sns.barplot(data=vaders, x = 'Score', y='neu', ax=axs[1])\n",
    "sns.barplot(data=vaders, x = 'Score', y='neg', ax=axs[2])\n",
    "axs[0].set_title('Positive')\n",
    "axs[1].set_title('Neutral')\n",
    "axs[2].set_title('Negative')\n",
    "plt.show()"
   ]
  },
  {
   "cell_type": "markdown",
   "id": "325f5f0c",
   "metadata": {
    "papermill": {
     "duration": 0.013356,
     "end_time": "2024-05-05T23:44:50.396974",
     "exception": false,
     "start_time": "2024-05-05T23:44:50.383618",
     "status": "completed"
    },
    "tags": []
   },
   "source": [
    "Roberta Pretrained Model\n",
    "    Use a trained model of large corpus of data\n",
    "    Transformer model accounts for words but also context related to other words unlike VADER"
   ]
  }
 ],
 "metadata": {
  "kaggle": {
   "accelerator": "none",
   "dataSources": [
    {
     "datasetId": 18,
     "sourceId": 2157,
     "sourceType": "datasetVersion"
    }
   ],
   "dockerImageVersionId": 30698,
   "isGpuEnabled": false,
   "isInternetEnabled": false,
   "language": "python",
   "sourceType": "notebook"
  },
  "kernelspec": {
   "display_name": "Python 3",
   "language": "python",
   "name": "python3"
  },
  "language_info": {
   "codemirror_mode": {
    "name": "ipython",
    "version": 3
   },
   "file_extension": ".py",
   "mimetype": "text/x-python",
   "name": "python",
   "nbconvert_exporter": "python",
   "pygments_lexer": "ipython3",
   "version": "3.10.13"
  },
  "papermill": {
   "default_parameters": {},
   "duration": 21.422706,
   "end_time": "2024-05-05T23:44:51.335182",
   "environment_variables": {},
   "exception": null,
   "input_path": "__notebook__.ipynb",
   "output_path": "__notebook__.ipynb",
   "parameters": {},
   "start_time": "2024-05-05T23:44:29.912476",
   "version": "2.5.0"
  },
  "widgets": {
   "application/vnd.jupyter.widget-state+json": {
    "state": {
     "186b70c3967e45f588fa6926ad8c2b76": {
      "model_module": "@jupyter-widgets/controls",
      "model_module_version": "1.5.0",
      "model_name": "HBoxModel",
      "state": {
       "_dom_classes": [],
       "_model_module": "@jupyter-widgets/controls",
       "_model_module_version": "1.5.0",
       "_model_name": "HBoxModel",
       "_view_count": null,
       "_view_module": "@jupyter-widgets/controls",
       "_view_module_version": "1.5.0",
       "_view_name": "HBoxView",
       "box_style": "",
       "children": [
        "IPY_MODEL_4d5302fc068c4e1ea1eabd637d273df4",
        "IPY_MODEL_86c11244dfaf4a8fbc3a8ad236ec39ac",
        "IPY_MODEL_1c25b1c24ac74f93bde85393d65efd4d"
       ],
       "layout": "IPY_MODEL_9a9195c1c4274cecb403b1f33fd11dcd"
      }
     },
     "1c25b1c24ac74f93bde85393d65efd4d": {
      "model_module": "@jupyter-widgets/controls",
      "model_module_version": "1.5.0",
      "model_name": "HTMLModel",
      "state": {
       "_dom_classes": [],
       "_model_module": "@jupyter-widgets/controls",
       "_model_module_version": "1.5.0",
       "_model_name": "HTMLModel",
       "_view_count": null,
       "_view_module": "@jupyter-widgets/controls",
       "_view_module_version": "1.5.0",
       "_view_name": "HTMLView",
       "description": "",
       "description_tooltip": null,
       "layout": "IPY_MODEL_2db54765f4d64463b40be6cd7ffbc97b",
       "placeholder": "​",
       "style": "IPY_MODEL_1dc746cefe7e480093e60e6f87b97490",
       "value": " 500/500 [00:00&lt;00:00, 750.12it/s]"
      }
     },
     "1dc746cefe7e480093e60e6f87b97490": {
      "model_module": "@jupyter-widgets/controls",
      "model_module_version": "1.5.0",
      "model_name": "DescriptionStyleModel",
      "state": {
       "_model_module": "@jupyter-widgets/controls",
       "_model_module_version": "1.5.0",
       "_model_name": "DescriptionStyleModel",
       "_view_count": null,
       "_view_module": "@jupyter-widgets/base",
       "_view_module_version": "1.2.0",
       "_view_name": "StyleView",
       "description_width": ""
      }
     },
     "2db54765f4d64463b40be6cd7ffbc97b": {
      "model_module": "@jupyter-widgets/base",
      "model_module_version": "1.2.0",
      "model_name": "LayoutModel",
      "state": {
       "_model_module": "@jupyter-widgets/base",
       "_model_module_version": "1.2.0",
       "_model_name": "LayoutModel",
       "_view_count": null,
       "_view_module": "@jupyter-widgets/base",
       "_view_module_version": "1.2.0",
       "_view_name": "LayoutView",
       "align_content": null,
       "align_items": null,
       "align_self": null,
       "border": null,
       "bottom": null,
       "display": null,
       "flex": null,
       "flex_flow": null,
       "grid_area": null,
       "grid_auto_columns": null,
       "grid_auto_flow": null,
       "grid_auto_rows": null,
       "grid_column": null,
       "grid_gap": null,
       "grid_row": null,
       "grid_template_areas": null,
       "grid_template_columns": null,
       "grid_template_rows": null,
       "height": null,
       "justify_content": null,
       "justify_items": null,
       "left": null,
       "margin": null,
       "max_height": null,
       "max_width": null,
       "min_height": null,
       "min_width": null,
       "object_fit": null,
       "object_position": null,
       "order": null,
       "overflow": null,
       "overflow_x": null,
       "overflow_y": null,
       "padding": null,
       "right": null,
       "top": null,
       "visibility": null,
       "width": null
      }
     },
     "4d5302fc068c4e1ea1eabd637d273df4": {
      "model_module": "@jupyter-widgets/controls",
      "model_module_version": "1.5.0",
      "model_name": "HTMLModel",
      "state": {
       "_dom_classes": [],
       "_model_module": "@jupyter-widgets/controls",
       "_model_module_version": "1.5.0",
       "_model_name": "HTMLModel",
       "_view_count": null,
       "_view_module": "@jupyter-widgets/controls",
       "_view_module_version": "1.5.0",
       "_view_name": "HTMLView",
       "description": "",
       "description_tooltip": null,
       "layout": "IPY_MODEL_6a68b8e05171408c8dca64b3fd1c013c",
       "placeholder": "​",
       "style": "IPY_MODEL_9b6bfbb2970f45b98853ddaff4a83a44",
       "value": "100%"
      }
     },
     "6a68b8e05171408c8dca64b3fd1c013c": {
      "model_module": "@jupyter-widgets/base",
      "model_module_version": "1.2.0",
      "model_name": "LayoutModel",
      "state": {
       "_model_module": "@jupyter-widgets/base",
       "_model_module_version": "1.2.0",
       "_model_name": "LayoutModel",
       "_view_count": null,
       "_view_module": "@jupyter-widgets/base",
       "_view_module_version": "1.2.0",
       "_view_name": "LayoutView",
       "align_content": null,
       "align_items": null,
       "align_self": null,
       "border": null,
       "bottom": null,
       "display": null,
       "flex": null,
       "flex_flow": null,
       "grid_area": null,
       "grid_auto_columns": null,
       "grid_auto_flow": null,
       "grid_auto_rows": null,
       "grid_column": null,
       "grid_gap": null,
       "grid_row": null,
       "grid_template_areas": null,
       "grid_template_columns": null,
       "grid_template_rows": null,
       "height": null,
       "justify_content": null,
       "justify_items": null,
       "left": null,
       "margin": null,
       "max_height": null,
       "max_width": null,
       "min_height": null,
       "min_width": null,
       "object_fit": null,
       "object_position": null,
       "order": null,
       "overflow": null,
       "overflow_x": null,
       "overflow_y": null,
       "padding": null,
       "right": null,
       "top": null,
       "visibility": null,
       "width": null
      }
     },
     "86c11244dfaf4a8fbc3a8ad236ec39ac": {
      "model_module": "@jupyter-widgets/controls",
      "model_module_version": "1.5.0",
      "model_name": "FloatProgressModel",
      "state": {
       "_dom_classes": [],
       "_model_module": "@jupyter-widgets/controls",
       "_model_module_version": "1.5.0",
       "_model_name": "FloatProgressModel",
       "_view_count": null,
       "_view_module": "@jupyter-widgets/controls",
       "_view_module_version": "1.5.0",
       "_view_name": "ProgressView",
       "bar_style": "success",
       "description": "",
       "description_tooltip": null,
       "layout": "IPY_MODEL_ab5aef08cfff42bf887e00dcdf0f83a6",
       "max": 500.0,
       "min": 0.0,
       "orientation": "horizontal",
       "style": "IPY_MODEL_f5de5a2947d3456091b9a2148cb9f026",
       "value": 500.0
      }
     },
     "9a9195c1c4274cecb403b1f33fd11dcd": {
      "model_module": "@jupyter-widgets/base",
      "model_module_version": "1.2.0",
      "model_name": "LayoutModel",
      "state": {
       "_model_module": "@jupyter-widgets/base",
       "_model_module_version": "1.2.0",
       "_model_name": "LayoutModel",
       "_view_count": null,
       "_view_module": "@jupyter-widgets/base",
       "_view_module_version": "1.2.0",
       "_view_name": "LayoutView",
       "align_content": null,
       "align_items": null,
       "align_self": null,
       "border": null,
       "bottom": null,
       "display": null,
       "flex": null,
       "flex_flow": null,
       "grid_area": null,
       "grid_auto_columns": null,
       "grid_auto_flow": null,
       "grid_auto_rows": null,
       "grid_column": null,
       "grid_gap": null,
       "grid_row": null,
       "grid_template_areas": null,
       "grid_template_columns": null,
       "grid_template_rows": null,
       "height": null,
       "justify_content": null,
       "justify_items": null,
       "left": null,
       "margin": null,
       "max_height": null,
       "max_width": null,
       "min_height": null,
       "min_width": null,
       "object_fit": null,
       "object_position": null,
       "order": null,
       "overflow": null,
       "overflow_x": null,
       "overflow_y": null,
       "padding": null,
       "right": null,
       "top": null,
       "visibility": null,
       "width": null
      }
     },
     "9b6bfbb2970f45b98853ddaff4a83a44": {
      "model_module": "@jupyter-widgets/controls",
      "model_module_version": "1.5.0",
      "model_name": "DescriptionStyleModel",
      "state": {
       "_model_module": "@jupyter-widgets/controls",
       "_model_module_version": "1.5.0",
       "_model_name": "DescriptionStyleModel",
       "_view_count": null,
       "_view_module": "@jupyter-widgets/base",
       "_view_module_version": "1.2.0",
       "_view_name": "StyleView",
       "description_width": ""
      }
     },
     "ab5aef08cfff42bf887e00dcdf0f83a6": {
      "model_module": "@jupyter-widgets/base",
      "model_module_version": "1.2.0",
      "model_name": "LayoutModel",
      "state": {
       "_model_module": "@jupyter-widgets/base",
       "_model_module_version": "1.2.0",
       "_model_name": "LayoutModel",
       "_view_count": null,
       "_view_module": "@jupyter-widgets/base",
       "_view_module_version": "1.2.0",
       "_view_name": "LayoutView",
       "align_content": null,
       "align_items": null,
       "align_self": null,
       "border": null,
       "bottom": null,
       "display": null,
       "flex": null,
       "flex_flow": null,
       "grid_area": null,
       "grid_auto_columns": null,
       "grid_auto_flow": null,
       "grid_auto_rows": null,
       "grid_column": null,
       "grid_gap": null,
       "grid_row": null,
       "grid_template_areas": null,
       "grid_template_columns": null,
       "grid_template_rows": null,
       "height": null,
       "justify_content": null,
       "justify_items": null,
       "left": null,
       "margin": null,
       "max_height": null,
       "max_width": null,
       "min_height": null,
       "min_width": null,
       "object_fit": null,
       "object_position": null,
       "order": null,
       "overflow": null,
       "overflow_x": null,
       "overflow_y": null,
       "padding": null,
       "right": null,
       "top": null,
       "visibility": null,
       "width": null
      }
     },
     "f5de5a2947d3456091b9a2148cb9f026": {
      "model_module": "@jupyter-widgets/controls",
      "model_module_version": "1.5.0",
      "model_name": "ProgressStyleModel",
      "state": {
       "_model_module": "@jupyter-widgets/controls",
       "_model_module_version": "1.5.0",
       "_model_name": "ProgressStyleModel",
       "_view_count": null,
       "_view_module": "@jupyter-widgets/base",
       "_view_module_version": "1.2.0",
       "_view_name": "StyleView",
       "bar_color": null,
       "description_width": ""
      }
     }
    },
    "version_major": 2,
    "version_minor": 0
   }
  }
 },
 "nbformat": 4,
 "nbformat_minor": 5
}
