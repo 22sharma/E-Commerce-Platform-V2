{
 "cells": [
  {
   "cell_type": "markdown",
   "id": "309cbd92",
   "metadata": {
    "papermill": {
     "duration": 0.0117,
     "end_time": "2024-05-06T13:40:03.907218",
     "exception": false,
     "start_time": "2024-05-06T13:40:03.895518",
     "status": "completed"
    },
    "tags": []
   },
   "source": [
    "Import neccesary packages and toolkits"
   ]
  },
  {
   "cell_type": "code",
   "execution_count": 1,
   "id": "0414973f",
   "metadata": {
    "execution": {
     "iopub.execute_input": "2024-05-06T13:40:03.934447Z",
     "iopub.status.busy": "2024-05-06T13:40:03.933237Z",
     "iopub.status.idle": "2024-05-06T13:40:06.992619Z",
     "shell.execute_reply": "2024-05-06T13:40:06.991291Z"
    },
    "papermill": {
     "duration": 3.074851,
     "end_time": "2024-05-06T13:40:06.995780",
     "exception": false,
     "start_time": "2024-05-06T13:40:03.920929",
     "status": "completed"
    },
    "tags": []
   },
   "outputs": [],
   "source": [
    "import pandas as pd\n",
    "import numpy as np\n",
    "import matplotlib.pyplot as plt\n",
    "import seaborn as sns\n",
    "\n",
    "plt.style.use('ggplot')\n",
    "\n",
    "import nltk"
   ]
  },
  {
   "cell_type": "markdown",
   "id": "77c41034",
   "metadata": {
    "papermill": {
     "duration": 0.011667,
     "end_time": "2024-05-06T13:40:07.019253",
     "exception": false,
     "start_time": "2024-05-06T13:40:07.007586",
     "status": "completed"
    },
    "tags": []
   },
   "source": [
    "Read in data"
   ]
  },
  {
   "cell_type": "code",
   "execution_count": 2,
   "id": "85641c17",
   "metadata": {
    "execution": {
     "iopub.execute_input": "2024-05-06T13:40:07.045722Z",
     "iopub.status.busy": "2024-05-06T13:40:07.044475Z",
     "iopub.status.idle": "2024-05-06T13:40:16.048974Z",
     "shell.execute_reply": "2024-05-06T13:40:16.047784Z"
    },
    "papermill": {
     "duration": 9.021081,
     "end_time": "2024-05-06T13:40:16.052656",
     "exception": false,
     "start_time": "2024-05-06T13:40:07.031575",
     "status": "completed"
    },
    "tags": []
   },
   "outputs": [],
   "source": [
    "df = pd.read_csv('../input/amazon-fine-food-reviews/Reviews.csv')\n",
    "df = df.head(2000)"
   ]
  },
  {
   "cell_type": "markdown",
   "id": "605621ae",
   "metadata": {
    "papermill": {
     "duration": 0.011149,
     "end_time": "2024-05-06T13:40:16.075478",
     "exception": false,
     "start_time": "2024-05-06T13:40:16.064329",
     "status": "completed"
    },
    "tags": []
   },
   "source": [
    "Observe the data"
   ]
  },
  {
   "cell_type": "code",
   "execution_count": 3,
   "id": "e6da0f93",
   "metadata": {
    "execution": {
     "iopub.execute_input": "2024-05-06T13:40:16.100832Z",
     "iopub.status.busy": "2024-05-06T13:40:16.100364Z",
     "iopub.status.idle": "2024-05-06T13:40:16.127268Z",
     "shell.execute_reply": "2024-05-06T13:40:16.126026Z"
    },
    "papermill": {
     "duration": 0.04292,
     "end_time": "2024-05-06T13:40:16.130078",
     "exception": false,
     "start_time": "2024-05-06T13:40:16.087158",
     "status": "completed"
    },
    "tags": []
   },
   "outputs": [
    {
     "data": {
      "text/html": [
       "<div>\n",
       "<style scoped>\n",
       "    .dataframe tbody tr th:only-of-type {\n",
       "        vertical-align: middle;\n",
       "    }\n",
       "\n",
       "    .dataframe tbody tr th {\n",
       "        vertical-align: top;\n",
       "    }\n",
       "\n",
       "    .dataframe thead th {\n",
       "        text-align: right;\n",
       "    }\n",
       "</style>\n",
       "<table border=\"1\" class=\"dataframe\">\n",
       "  <thead>\n",
       "    <tr style=\"text-align: right;\">\n",
       "      <th></th>\n",
       "      <th>Id</th>\n",
       "      <th>ProductId</th>\n",
       "      <th>UserId</th>\n",
       "      <th>ProfileName</th>\n",
       "      <th>HelpfulnessNumerator</th>\n",
       "      <th>HelpfulnessDenominator</th>\n",
       "      <th>Score</th>\n",
       "      <th>Time</th>\n",
       "      <th>Summary</th>\n",
       "      <th>Text</th>\n",
       "    </tr>\n",
       "  </thead>\n",
       "  <tbody>\n",
       "    <tr>\n",
       "      <th>0</th>\n",
       "      <td>1</td>\n",
       "      <td>B001E4KFG0</td>\n",
       "      <td>A3SGXH7AUHU8GW</td>\n",
       "      <td>delmartian</td>\n",
       "      <td>1</td>\n",
       "      <td>1</td>\n",
       "      <td>5</td>\n",
       "      <td>1303862400</td>\n",
       "      <td>Good Quality Dog Food</td>\n",
       "      <td>I have bought several of the Vitality canned d...</td>\n",
       "    </tr>\n",
       "    <tr>\n",
       "      <th>1</th>\n",
       "      <td>2</td>\n",
       "      <td>B00813GRG4</td>\n",
       "      <td>A1D87F6ZCVE5NK</td>\n",
       "      <td>dll pa</td>\n",
       "      <td>0</td>\n",
       "      <td>0</td>\n",
       "      <td>1</td>\n",
       "      <td>1346976000</td>\n",
       "      <td>Not as Advertised</td>\n",
       "      <td>Product arrived labeled as Jumbo Salted Peanut...</td>\n",
       "    </tr>\n",
       "    <tr>\n",
       "      <th>2</th>\n",
       "      <td>3</td>\n",
       "      <td>B000LQOCH0</td>\n",
       "      <td>ABXLMWJIXXAIN</td>\n",
       "      <td>Natalia Corres \"Natalia Corres\"</td>\n",
       "      <td>1</td>\n",
       "      <td>1</td>\n",
       "      <td>4</td>\n",
       "      <td>1219017600</td>\n",
       "      <td>\"Delight\" says it all</td>\n",
       "      <td>This is a confection that has been around a fe...</td>\n",
       "    </tr>\n",
       "    <tr>\n",
       "      <th>3</th>\n",
       "      <td>4</td>\n",
       "      <td>B000UA0QIQ</td>\n",
       "      <td>A395BORC6FGVXV</td>\n",
       "      <td>Karl</td>\n",
       "      <td>3</td>\n",
       "      <td>3</td>\n",
       "      <td>2</td>\n",
       "      <td>1307923200</td>\n",
       "      <td>Cough Medicine</td>\n",
       "      <td>If you are looking for the secret ingredient i...</td>\n",
       "    </tr>\n",
       "    <tr>\n",
       "      <th>4</th>\n",
       "      <td>5</td>\n",
       "      <td>B006K2ZZ7K</td>\n",
       "      <td>A1UQRSCLF8GW1T</td>\n",
       "      <td>Michael D. Bigham \"M. Wassir\"</td>\n",
       "      <td>0</td>\n",
       "      <td>0</td>\n",
       "      <td>5</td>\n",
       "      <td>1350777600</td>\n",
       "      <td>Great taffy</td>\n",
       "      <td>Great taffy at a great price.  There was a wid...</td>\n",
       "    </tr>\n",
       "  </tbody>\n",
       "</table>\n",
       "</div>"
      ],
      "text/plain": [
       "   Id   ProductId          UserId                      ProfileName  \\\n",
       "0   1  B001E4KFG0  A3SGXH7AUHU8GW                       delmartian   \n",
       "1   2  B00813GRG4  A1D87F6ZCVE5NK                           dll pa   \n",
       "2   3  B000LQOCH0   ABXLMWJIXXAIN  Natalia Corres \"Natalia Corres\"   \n",
       "3   4  B000UA0QIQ  A395BORC6FGVXV                             Karl   \n",
       "4   5  B006K2ZZ7K  A1UQRSCLF8GW1T    Michael D. Bigham \"M. Wassir\"   \n",
       "\n",
       "   HelpfulnessNumerator  HelpfulnessDenominator  Score        Time  \\\n",
       "0                     1                       1      5  1303862400   \n",
       "1                     0                       0      1  1346976000   \n",
       "2                     1                       1      4  1219017600   \n",
       "3                     3                       3      2  1307923200   \n",
       "4                     0                       0      5  1350777600   \n",
       "\n",
       "                 Summary                                               Text  \n",
       "0  Good Quality Dog Food  I have bought several of the Vitality canned d...  \n",
       "1      Not as Advertised  Product arrived labeled as Jumbo Salted Peanut...  \n",
       "2  \"Delight\" says it all  This is a confection that has been around a fe...  \n",
       "3         Cough Medicine  If you are looking for the secret ingredient i...  \n",
       "4            Great taffy  Great taffy at a great price.  There was a wid...  "
      ]
     },
     "execution_count": 3,
     "metadata": {},
     "output_type": "execute_result"
    }
   ],
   "source": [
    "df.head()"
   ]
  },
  {
   "cell_type": "code",
   "execution_count": 4,
   "id": "66a38251",
   "metadata": {
    "execution": {
     "iopub.execute_input": "2024-05-06T13:40:16.156709Z",
     "iopub.status.busy": "2024-05-06T13:40:16.156318Z",
     "iopub.status.idle": "2024-05-06T13:40:16.163547Z",
     "shell.execute_reply": "2024-05-06T13:40:16.162294Z"
    },
    "papermill": {
     "duration": 0.023498,
     "end_time": "2024-05-06T13:40:16.166544",
     "exception": false,
     "start_time": "2024-05-06T13:40:16.143046",
     "status": "completed"
    },
    "tags": []
   },
   "outputs": [
    {
     "data": {
      "text/plain": [
       "'I have bought several of the Vitality canned dog food products and have found them all to be of good quality. The product looks more like a stew than a processed meat and it smells better. My Labrador is finicky and she appreciates this product better than  most.'"
      ]
     },
     "execution_count": 4,
     "metadata": {},
     "output_type": "execute_result"
    }
   ],
   "source": [
    "df['Text'].values[0]"
   ]
  },
  {
   "cell_type": "markdown",
   "id": "7aeb8a06",
   "metadata": {
    "papermill": {
     "duration": 0.011885,
     "end_time": "2024-05-06T13:40:16.190864",
     "exception": false,
     "start_time": "2024-05-06T13:40:16.178979",
     "status": "completed"
    },
    "tags": []
   },
   "source": [
    "Quick EDA"
   ]
  },
  {
   "cell_type": "code",
   "execution_count": 5,
   "id": "66603a08",
   "metadata": {
    "execution": {
     "iopub.execute_input": "2024-05-06T13:40:16.216985Z",
     "iopub.status.busy": "2024-05-06T13:40:16.216579Z",
     "iopub.status.idle": "2024-05-06T13:40:16.548006Z",
     "shell.execute_reply": "2024-05-06T13:40:16.546609Z"
    },
    "papermill": {
     "duration": 0.347989,
     "end_time": "2024-05-06T13:40:16.550938",
     "exception": false,
     "start_time": "2024-05-06T13:40:16.202949",
     "status": "completed"
    },
    "tags": []
   },
   "outputs": [
    {
     "data": {
      "image/png": "[encoded data removed]",
      "text/plain": [
       "<Figure size 1000x500 with 1 Axes>"
      ]
     },
     "metadata": {},
     "output_type": "display_data"
    }
   ],
   "source": [
    "ax = df['Score'].value_counts().sort_index().plot(kind='bar', title='Count of Reviews by Stars', figsize=(10, 5))\n",
    "ax.set_xlabel('Review Stars')\n",
    "plt.show()"
   ]
  },
  {
   "cell_type": "markdown",
   "id": "41012d85",
   "metadata": {
    "papermill": {
     "duration": 0.012138,
     "end_time": "2024-05-06T13:40:16.575969",
     "exception": false,
     "start_time": "2024-05-06T13:40:16.563831",
     "status": "completed"
    },
    "tags": []
   },
   "source": [
    "Basic NLTK"
   ]
  },
  {
   "cell_type": "code",
   "execution_count": 6,
   "id": "dea9477a",
   "metadata": {
    "execution": {
     "iopub.execute_input": "2024-05-06T13:40:16.603196Z",
     "iopub.status.busy": "2024-05-06T13:40:16.602505Z",
     "iopub.status.idle": "2024-05-06T13:40:16.608456Z",
     "shell.execute_reply": "2024-05-06T13:40:16.607173Z"
    },
    "papermill": {
     "duration": 0.022724,
     "end_time": "2024-05-06T13:40:16.611131",
     "exception": false,
     "start_time": "2024-05-06T13:40:16.588407",
     "status": "completed"
    },
    "tags": []
   },
   "outputs": [
    {
     "name": "stdout",
     "output_type": "stream",
     "text": [
      "This oatmeal is not good. Its mushy, soft, I don't like it. Quaker Oats is the way to go.\n"
     ]
    }
   ],
   "source": [
    "example = df['Text'][50]\n",
    "print(example)"
   ]
  },
  {
   "cell_type": "code",
   "execution_count": 7,
   "id": "6deb182f",
   "metadata": {
    "execution": {
     "iopub.execute_input": "2024-05-06T13:40:16.639063Z",
     "iopub.status.busy": "2024-05-06T13:40:16.638327Z",
     "iopub.status.idle": "2024-05-06T13:40:16.662824Z",
     "shell.execute_reply": "2024-05-06T13:40:16.661532Z"
    },
    "papermill": {
     "duration": 0.041503,
     "end_time": "2024-05-06T13:40:16.665615",
     "exception": false,
     "start_time": "2024-05-06T13:40:16.624112",
     "status": "completed"
    },
    "tags": []
   },
   "outputs": [
    {
     "data": {
      "text/plain": [
       "['This', 'oatmeal', 'is', 'not', 'good', '.', 'Its', 'mushy', ',', 'soft']"
      ]
     },
     "execution_count": 7,
     "metadata": {},
     "output_type": "execute_result"
    }
   ],
   "source": [
    "tokens = nltk.word_tokenize(example)\n",
    "tokens[:10]"
   ]
  },
  {
   "cell_type": "code",
   "execution_count": 8,
   "id": "94c2c7b9",
   "metadata": {
    "execution": {
     "iopub.execute_input": "2024-05-06T13:40:16.693637Z",
     "iopub.status.busy": "2024-05-06T13:40:16.692860Z",
     "iopub.status.idle": "2024-05-06T13:40:16.878549Z",
     "shell.execute_reply": "2024-05-06T13:40:16.877228Z"
    },
    "papermill": {
     "duration": 0.203328,
     "end_time": "2024-05-06T13:40:16.881601",
     "exception": false,
     "start_time": "2024-05-06T13:40:16.678273",
     "status": "completed"
    },
    "tags": []
   },
   "outputs": [
    {
     "data": {
      "text/plain": [
       "[('This', 'DT'),\n",
       " ('oatmeal', 'NN'),\n",
       " ('is', 'VBZ'),\n",
       " ('not', 'RB'),\n",
       " ('good', 'JJ'),\n",
       " ('.', '.'),\n",
       " ('Its', 'PRP$'),\n",
       " ('mushy', 'NN'),\n",
       " (',', ','),\n",
       " ('soft', 'JJ')]"
      ]
     },
     "execution_count": 8,
     "metadata": {},
     "output_type": "execute_result"
    }
   ],
   "source": [
    "tagged = nltk.pos_tag(tokens)\n",
    "tagged[:10]"
   ]
  },
  {
   "cell_type": "code",
   "execution_count": 9,
   "id": "fdd0a334",
   "metadata": {
    "execution": {
     "iopub.execute_input": "2024-05-06T13:40:16.909462Z",
     "iopub.status.busy": "2024-05-06T13:40:16.908707Z",
     "iopub.status.idle": "2024-05-06T13:40:17.083928Z",
     "shell.execute_reply": "2024-05-06T13:40:17.082154Z"
    },
    "papermill": {
     "duration": 0.192591,
     "end_time": "2024-05-06T13:40:17.087019",
     "exception": false,
     "start_time": "2024-05-06T13:40:16.894428",
     "status": "completed"
    },
    "tags": []
   },
   "outputs": [
    {
     "name": "stdout",
     "output_type": "stream",
     "text": [
      "(S\n",
      "  This/DT\n",
      "  oatmeal/NN\n",
      "  is/VBZ\n",
      "  not/RB\n",
      "  good/JJ\n",
      "  ./.\n",
      "  Its/PRP$\n",
      "  mushy/NN\n",
      "  ,/,\n",
      "  soft/JJ\n",
      "  ,/,\n",
      "  I/PRP\n",
      "  do/VBP\n",
      "  n't/RB\n",
      "  like/VB\n",
      "  it/PRP\n",
      "  ./.\n",
      "  (ORGANIZATION Quaker/NNP Oats/NNPS)\n",
      "  is/VBZ\n",
      "  the/DT\n",
      "  way/NN\n",
      "  to/TO\n",
      "  go/VB\n",
      "  ./.)\n"
     ]
    }
   ],
   "source": [
    "entities = nltk.chunk.ne_chunk(tagged)\n",
    "entities.pprint()"
   ]
  },
  {
   "cell_type": "markdown",
   "id": "93b7c168",
   "metadata": {
    "papermill": {
     "duration": 0.012191,
     "end_time": "2024-05-06T13:40:17.111698",
     "exception": false,
     "start_time": "2024-05-06T13:40:17.099507",
     "status": "completed"
    },
    "tags": []
   },
   "source": [
    "VADER Sentiment Scoring\n",
    "    using NLTK's SentimentIntensityAnalyzer to get negative/neutral/positive scores of text"
   ]
  },
  {
   "cell_type": "code",
   "execution_count": 10,
   "id": "cb96931a",
   "metadata": {
    "execution": {
     "iopub.execute_input": "2024-05-06T13:40:17.139377Z",
     "iopub.status.busy": "2024-05-06T13:40:17.138910Z",
     "iopub.status.idle": "2024-05-06T13:40:17.182468Z",
     "shell.execute_reply": "2024-05-06T13:40:17.181252Z"
    },
    "papermill": {
     "duration": 0.060785,
     "end_time": "2024-05-06T13:40:17.185145",
     "exception": false,
     "start_time": "2024-05-06T13:40:17.124360",
     "status": "completed"
    },
    "tags": []
   },
   "outputs": [
    {
     "name": "stderr",
     "output_type": "stream",
     "text": [
      "/opt/conda/lib/python3.10/site-packages/nltk/twitter/__init__.py:20: UserWarning: The twython library has not been installed. Some functionality from the twitter package will not be available.\n",
      "  warnings.warn(\"The twython library has not been installed. \"\n"
     ]
    }
   ],
   "source": [
    "from nltk.sentiment import SentimentIntensityAnalyzer\n",
    "from tqdm.notebook import tqdm\n",
    "\n",
    "sia = SentimentIntensityAnalyzer()"
   ]
  },
  {
   "cell_type": "markdown",
   "id": "1e6b5ab4",
   "metadata": {
    "papermill": {
     "duration": 0.012205,
     "end_time": "2024-05-06T13:40:17.209940",
     "exception": false,
     "start_time": "2024-05-06T13:40:17.197735",
     "status": "completed"
    },
    "tags": []
   },
   "source": [
    "Examples of how SentimentIntensityAnalyzer works"
   ]
  },
  {
   "cell_type": "code",
   "execution_count": 11,
   "id": "50b137ec",
   "metadata": {
    "execution": {
     "iopub.execute_input": "2024-05-06T13:40:17.236820Z",
     "iopub.status.busy": "2024-05-06T13:40:17.236331Z",
     "iopub.status.idle": "2024-05-06T13:40:17.245576Z",
     "shell.execute_reply": "2024-05-06T13:40:17.244176Z"
    },
    "papermill": {
     "duration": 0.025901,
     "end_time": "2024-05-06T13:40:17.248281",
     "exception": false,
     "start_time": "2024-05-06T13:40:17.222380",
     "status": "completed"
    },
    "tags": []
   },
   "outputs": [
    {
     "data": {
      "text/plain": [
       "{'neg': 0.0, 'neu': 0.318, 'pos': 0.682, 'compound': 0.6468}"
      ]
     },
     "execution_count": 11,
     "metadata": {},
     "output_type": "execute_result"
    }
   ],
   "source": [
    "sia.polarity_scores('I am so happy!')"
   ]
  },
  {
   "cell_type": "code",
   "execution_count": 12,
   "id": "20700df4",
   "metadata": {
    "execution": {
     "iopub.execute_input": "2024-05-06T13:40:17.275811Z",
     "iopub.status.busy": "2024-05-06T13:40:17.275335Z",
     "iopub.status.idle": "2024-05-06T13:40:17.283745Z",
     "shell.execute_reply": "2024-05-06T13:40:17.282445Z"
    },
    "papermill": {
     "duration": 0.025362,
     "end_time": "2024-05-06T13:40:17.286411",
     "exception": false,
     "start_time": "2024-05-06T13:40:17.261049",
     "status": "completed"
    },
    "tags": []
   },
   "outputs": [
    {
     "data": {
      "text/plain": [
       "{'neg': 0.451, 'neu': 0.549, 'pos': 0.0, 'compound': -0.6249}"
      ]
     },
     "execution_count": 12,
     "metadata": {},
     "output_type": "execute_result"
    }
   ],
   "source": [
    "sia.polarity_scores('This is the worst thing ever.')"
   ]
  },
  {
   "cell_type": "markdown",
   "id": "dde4f31c",
   "metadata": {
    "papermill": {
     "duration": 0.01228,
     "end_time": "2024-05-06T13:40:17.311453",
     "exception": false,
     "start_time": "2024-05-06T13:40:17.299173",
     "status": "completed"
    },
    "tags": []
   },
   "source": [
    "Run on example from dataset"
   ]
  },
  {
   "cell_type": "code",
   "execution_count": 13,
   "id": "4cdf073a",
   "metadata": {
    "execution": {
     "iopub.execute_input": "2024-05-06T13:40:17.339420Z",
     "iopub.status.busy": "2024-05-06T13:40:17.338958Z",
     "iopub.status.idle": "2024-05-06T13:40:17.347668Z",
     "shell.execute_reply": "2024-05-06T13:40:17.346429Z"
    },
    "papermill": {
     "duration": 0.025727,
     "end_time": "2024-05-06T13:40:17.350184",
     "exception": false,
     "start_time": "2024-05-06T13:40:17.324457",
     "status": "completed"
    },
    "tags": []
   },
   "outputs": [
    {
     "data": {
      "text/plain": [
       "{'neg': 0.22, 'neu': 0.78, 'pos': 0.0, 'compound': -0.5448}"
      ]
     },
     "execution_count": 13,
     "metadata": {},
     "output_type": "execute_result"
    }
   ],
   "source": [
    "sia.polarity_scores(example)"
   ]
  },
  {
   "cell_type": "markdown",
   "id": "7b52c01b",
   "metadata": {
    "papermill": {
     "duration": 0.012485,
     "end_time": "2024-05-06T13:40:17.375770",
     "exception": false,
     "start_time": "2024-05-06T13:40:17.363285",
     "status": "completed"
    },
    "tags": []
   },
   "source": [
    "Run the polarity score on the entire dataset"
   ]
  },
  {
   "cell_type": "code",
   "execution_count": 14,
   "id": "68f7b9a9",
   "metadata": {
    "execution": {
     "iopub.execute_input": "2024-05-06T13:40:17.403947Z",
     "iopub.status.busy": "2024-05-06T13:40:17.403487Z",
     "iopub.status.idle": "2024-05-06T13:40:20.224141Z",
     "shell.execute_reply": "2024-05-06T13:40:20.222655Z"
    },
    "papermill": {
     "duration": 2.837707,
     "end_time": "2024-05-06T13:40:20.226713",
     "exception": false,
     "start_time": "2024-05-06T13:40:17.389006",
     "status": "completed"
    },
    "tags": []
   },
   "outputs": [
    {
     "data": {
      "application/vnd.jupyter.widget-view+json": {
       "model_id": "a444d8b0b98f4655a80b3acb2a515131",
       "version_major": 2,
       "version_minor": 0
      },
      "text/plain": [
       "  0%|          | 0/2000 [00:00<?, ?it/s]"
      ]
     },
     "metadata": {},
     "output_type": "display_data"
    }
   ],
   "source": [
    "res = {}\n",
    "for i, row in tqdm(df.iterrows(), total=len(df)):\n",
    "    text = row['Text']\n",
    "    myid = row['Id']\n",
    "    res[myid] = sia.polarity_scores(text)"
   ]
  },
  {
   "cell_type": "markdown",
   "id": "39b1b306",
   "metadata": {
    "papermill": {
     "duration": 0.013291,
     "end_time": "2024-05-06T13:40:20.253777",
     "exception": false,
     "start_time": "2024-05-06T13:40:20.240486",
     "status": "completed"
    },
    "tags": []
   },
   "source": [
    "Store res dictionary as pandas data frame and merge with original df"
   ]
  },
  {
   "cell_type": "code",
   "execution_count": 15,
   "id": "ad271a56",
   "metadata": {
    "execution": {
     "iopub.execute_input": "2024-05-06T13:40:20.284410Z",
     "iopub.status.busy": "2024-05-06T13:40:20.282942Z",
     "iopub.status.idle": "2024-05-06T13:40:20.364013Z",
     "shell.execute_reply": "2024-05-06T13:40:20.363108Z"
    },
    "papermill": {
     "duration": 0.099112,
     "end_time": "2024-05-06T13:40:20.366845",
     "exception": false,
     "start_time": "2024-05-06T13:40:20.267733",
     "status": "completed"
    },
    "tags": []
   },
   "outputs": [],
   "source": [
    "vaders = pd.DataFrame(res).T\n",
    "vaders = vaders.reset_index().rename(columns={'index': 'Id'})\n",
    "vaders = vaders.merge(df, how='left')"
   ]
  },
  {
   "cell_type": "markdown",
   "id": "c7e084d7",
   "metadata": {
    "papermill": {
     "duration": 0.01317,
     "end_time": "2024-05-06T13:40:20.393732",
     "exception": false,
     "start_time": "2024-05-06T13:40:20.380562",
     "status": "completed"
    },
    "tags": []
   },
   "source": [
    "Now we have sentiment score and metadata"
   ]
  },
  {
   "cell_type": "code",
   "execution_count": 16,
   "id": "a8991480",
   "metadata": {
    "execution": {
     "iopub.execute_input": "2024-05-06T13:40:20.423374Z",
     "iopub.status.busy": "2024-05-06T13:40:20.422511Z",
     "iopub.status.idle": "2024-05-06T13:40:20.444675Z",
     "shell.execute_reply": "2024-05-06T13:40:20.443194Z"
    },
    "papermill": {
     "duration": 0.04029,
     "end_time": "2024-05-06T13:40:20.447728",
     "exception": false,
     "start_time": "2024-05-06T13:40:20.407438",
     "status": "completed"
    },
    "tags": []
   },
   "outputs": [
    {
     "data": {
      "text/html": [
       "<div>\n",
       "<style scoped>\n",
       "    .dataframe tbody tr th:only-of-type {\n",
       "        vertical-align: middle;\n",
       "    }\n",
       "\n",
       "    .dataframe tbody tr th {\n",
       "        vertical-align: top;\n",
       "    }\n",
       "\n",
       "    .dataframe thead th {\n",
       "        text-align: right;\n",
       "    }\n",
       "</style>\n",
       "<table border=\"1\" class=\"dataframe\">\n",
       "  <thead>\n",
       "    <tr style=\"text-align: right;\">\n",
       "      <th></th>\n",
       "      <th>Id</th>\n",
       "      <th>neg</th>\n",
       "      <th>neu</th>\n",
       "      <th>pos</th>\n",
       "      <th>compound</th>\n",
       "      <th>ProductId</th>\n",
       "      <th>UserId</th>\n",
       "      <th>ProfileName</th>\n",
       "      <th>HelpfulnessNumerator</th>\n",
       "      <th>HelpfulnessDenominator</th>\n",
       "      <th>Score</th>\n",
       "      <th>Time</th>\n",
       "      <th>Summary</th>\n",
       "      <th>Text</th>\n",
       "    </tr>\n",
       "  </thead>\n",
       "  <tbody>\n",
       "    <tr>\n",
       "      <th>0</th>\n",
       "      <td>1</td>\n",
       "      <td>0.000</td>\n",
       "      <td>0.695</td>\n",
       "      <td>0.305</td>\n",
       "      <td>0.9441</td>\n",
       "      <td>B001E4KFG0</td>\n",
       "      <td>A3SGXH7AUHU8GW</td>\n",
       "      <td>delmartian</td>\n",
       "      <td>1</td>\n",
       "      <td>1</td>\n",
       "      <td>5</td>\n",
       "      <td>1303862400</td>\n",
       "      <td>Good Quality Dog Food</td>\n",
       "      <td>I have bought several of the Vitality canned d...</td>\n",
       "    </tr>\n",
       "    <tr>\n",
       "      <th>1</th>\n",
       "      <td>2</td>\n",
       "      <td>0.079</td>\n",
       "      <td>0.853</td>\n",
       "      <td>0.068</td>\n",
       "      <td>-0.1027</td>\n",
       "      <td>B00813GRG4</td>\n",
       "      <td>A1D87F6ZCVE5NK</td>\n",
       "      <td>dll pa</td>\n",
       "      <td>0</td>\n",
       "      <td>0</td>\n",
       "      <td>1</td>\n",
       "      <td>1346976000</td>\n",
       "      <td>Not as Advertised</td>\n",
       "      <td>Product arrived labeled as Jumbo Salted Peanut...</td>\n",
       "    </tr>\n",
       "    <tr>\n",
       "      <th>2</th>\n",
       "      <td>3</td>\n",
       "      <td>0.091</td>\n",
       "      <td>0.754</td>\n",
       "      <td>0.155</td>\n",
       "      <td>0.8265</td>\n",
       "      <td>B000LQOCH0</td>\n",
       "      <td>ABXLMWJIXXAIN</td>\n",
       "      <td>Natalia Corres \"Natalia Corres\"</td>\n",
       "      <td>1</td>\n",
       "      <td>1</td>\n",
       "      <td>4</td>\n",
       "      <td>1219017600</td>\n",
       "      <td>\"Delight\" says it all</td>\n",
       "      <td>This is a confection that has been around a fe...</td>\n",
       "    </tr>\n",
       "    <tr>\n",
       "      <th>3</th>\n",
       "      <td>4</td>\n",
       "      <td>0.000</td>\n",
       "      <td>1.000</td>\n",
       "      <td>0.000</td>\n",
       "      <td>0.0000</td>\n",
       "      <td>B000UA0QIQ</td>\n",
       "      <td>A395BORC6FGVXV</td>\n",
       "      <td>Karl</td>\n",
       "      <td>3</td>\n",
       "      <td>3</td>\n",
       "      <td>2</td>\n",
       "      <td>1307923200</td>\n",
       "      <td>Cough Medicine</td>\n",
       "      <td>If you are looking for the secret ingredient i...</td>\n",
       "    </tr>\n",
       "    <tr>\n",
       "      <th>4</th>\n",
       "      <td>5</td>\n",
       "      <td>0.000</td>\n",
       "      <td>0.552</td>\n",
       "      <td>0.448</td>\n",
       "      <td>0.9468</td>\n",
       "      <td>B006K2ZZ7K</td>\n",
       "      <td>A1UQRSCLF8GW1T</td>\n",
       "      <td>Michael D. Bigham \"M. Wassir\"</td>\n",
       "      <td>0</td>\n",
       "      <td>0</td>\n",
       "      <td>5</td>\n",
       "      <td>1350777600</td>\n",
       "      <td>Great taffy</td>\n",
       "      <td>Great taffy at a great price.  There was a wid...</td>\n",
       "    </tr>\n",
       "  </tbody>\n",
       "</table>\n",
       "</div>"
      ],
      "text/plain": [
       "   Id    neg    neu    pos  compound   ProductId          UserId  \\\n",
       "0   1  0.000  0.695  0.305    0.9441  B001E4KFG0  A3SGXH7AUHU8GW   \n",
       "1   2  0.079  0.853  0.068   -0.1027  B00813GRG4  A1D87F6ZCVE5NK   \n",
       "2   3  0.091  0.754  0.155    0.8265  B000LQOCH0   ABXLMWJIXXAIN   \n",
       "3   4  0.000  1.000  0.000    0.0000  B000UA0QIQ  A395BORC6FGVXV   \n",
       "4   5  0.000  0.552  0.448    0.9468  B006K2ZZ7K  A1UQRSCLF8GW1T   \n",
       "\n",
       "                       ProfileName  HelpfulnessNumerator  \\\n",
       "0                       delmartian                     1   \n",
       "1                           dll pa                     0   \n",
       "2  Natalia Corres \"Natalia Corres\"                     1   \n",
       "3                             Karl                     3   \n",
       "4    Michael D. Bigham \"M. Wassir\"                     0   \n",
       "\n",
       "   HelpfulnessDenominator  Score        Time                Summary  \\\n",
       "0                       1      5  1303862400  Good Quality Dog Food   \n",
       "1                       0      1  1346976000      Not as Advertised   \n",
       "2                       1      4  1219017600  \"Delight\" says it all   \n",
       "3                       3      2  1307923200         Cough Medicine   \n",
       "4                       0      5  1350777600            Great taffy   \n",
       "\n",
       "                                                Text  \n",
       "0  I have bought several of the Vitality canned d...  \n",
       "1  Product arrived labeled as Jumbo Salted Peanut...  \n",
       "2  This is a confection that has been around a fe...  \n",
       "3  If you are looking for the secret ingredient i...  \n",
       "4  Great taffy at a great price.  There was a wid...  "
      ]
     },
     "execution_count": 16,
     "metadata": {},
     "output_type": "execute_result"
    }
   ],
   "source": [
    "vaders.head()"
   ]
  },
  {
   "cell_type": "markdown",
   "id": "9ac20564",
   "metadata": {
    "papermill": {
     "duration": 0.014476,
     "end_time": "2024-05-06T13:40:20.477347",
     "exception": false,
     "start_time": "2024-05-06T13:40:20.462871",
     "status": "completed"
    },
    "tags": []
   },
   "source": [
    "Plot VADER results"
   ]
  },
  {
   "cell_type": "code",
   "execution_count": 17,
   "id": "d011a0e5",
   "metadata": {
    "execution": {
     "iopub.execute_input": "2024-05-06T13:40:20.507952Z",
     "iopub.status.busy": "2024-05-06T13:40:20.507454Z",
     "iopub.status.idle": "2024-05-06T13:40:20.973938Z",
     "shell.execute_reply": "2024-05-06T13:40:20.972800Z"
    },
    "papermill": {
     "duration": 0.484673,
     "end_time": "2024-05-06T13:40:20.976546",
     "exception": false,
     "start_time": "2024-05-06T13:40:20.491873",
     "status": "completed"
    },
    "tags": []
   },
   "outputs": [
    {
     "data": {
      "text/plain": [
       "Text(0.5, 1.0, 'Compound Score by Amazon Star Review')"
      ]
     },
     "execution_count": 17,
     "metadata": {},
     "output_type": "execute_result"
    },
    {
     "data": {
      "image/png": "[encoded data removed]",
      "text/plain": [
       "<Figure size 640x480 with 1 Axes>"
      ]
     },
     "metadata": {},
     "output_type": "display_data"
    }
   ],
   "source": [
    "ax = sns.barplot(data=vaders, x='Score', y='compound')\n",
    "ax.set_title('Compound Score by Amazon Star Review')"
   ]
  },
  {
   "cell_type": "markdown",
   "id": "44f817e2",
   "metadata": {
    "papermill": {
     "duration": 0.013832,
     "end_time": "2024-05-06T13:40:21.004863",
     "exception": false,
     "start_time": "2024-05-06T13:40:20.991031",
     "status": "completed"
    },
    "tags": []
   },
   "source": [
    "We can see that VADER is reliable in the terms of the connection between sentiment scores and rating reviews. "
   ]
  },
  {
   "cell_type": "code",
   "execution_count": 18,
   "id": "e250345e",
   "metadata": {
    "execution": {
     "iopub.execute_input": "2024-05-06T13:40:21.035992Z",
     "iopub.status.busy": "2024-05-06T13:40:21.035239Z",
     "iopub.status.idle": "2024-05-06T13:40:22.172153Z",
     "shell.execute_reply": "2024-05-06T13:40:22.171296Z"
    },
    "papermill": {
     "duration": 1.15605,
     "end_time": "2024-05-06T13:40:22.175064",
     "exception": false,
     "start_time": "2024-05-06T13:40:21.019014",
     "status": "completed"
    },
    "tags": []
   },
   "outputs": [
    {
     "data": {
      "image/png": "[encoded data removed]",
      "text/plain": [
       "<Figure size 1500x500 with 3 Axes>"
      ]
     },
     "metadata": {},
     "output_type": "display_data"
    }
   ],
   "source": [
    "fig, axs = plt.subplots(1, 3, figsize=(15, 5))\n",
    "sns.barplot(data=vaders, x = 'Score', y='pos', ax=axs[0])\n",
    "sns.barplot(data=vaders, x = 'Score', y='neu', ax=axs[1])\n",
    "sns.barplot(data=vaders, x = 'Score', y='neg', ax=axs[2])\n",
    "axs[0].set_title('Positive')\n",
    "axs[1].set_title('Neutral')\n",
    "axs[2].set_title('Negative')\n",
    "plt.show()"
   ]
  },
  {
   "cell_type": "code",
   "execution_count": 19,
   "id": "7a0323e8",
   "metadata": {
    "execution": {
     "iopub.execute_input": "2024-05-06T13:40:22.206539Z",
     "iopub.status.busy": "2024-05-06T13:40:22.205917Z",
     "iopub.status.idle": "2024-05-06T13:40:22.221048Z",
     "shell.execute_reply": "2024-05-06T13:40:22.219966Z"
    },
    "papermill": {
     "duration": 0.034276,
     "end_time": "2024-05-06T13:40:22.223998",
     "exception": false,
     "start_time": "2024-05-06T13:40:22.189722",
     "status": "completed"
    },
    "tags": []
   },
   "outputs": [
    {
     "data": {
      "text/html": [
       "<div>\n",
       "<style scoped>\n",
       "    .dataframe tbody tr th:only-of-type {\n",
       "        vertical-align: middle;\n",
       "    }\n",
       "\n",
       "    .dataframe tbody tr th {\n",
       "        vertical-align: top;\n",
       "    }\n",
       "\n",
       "    .dataframe thead th {\n",
       "        text-align: right;\n",
       "    }\n",
       "</style>\n",
       "<table border=\"1\" class=\"dataframe\">\n",
       "  <thead>\n",
       "    <tr style=\"text-align: right;\">\n",
       "      <th></th>\n",
       "      <th>ProductId</th>\n",
       "      <th>Count</th>\n",
       "    </tr>\n",
       "  </thead>\n",
       "  <tbody>\n",
       "    <tr>\n",
       "      <th>0</th>\n",
       "      <td>B00002Z754</td>\n",
       "      <td>2</td>\n",
       "    </tr>\n",
       "    <tr>\n",
       "      <th>1</th>\n",
       "      <td>B000084E1U</td>\n",
       "      <td>1</td>\n",
       "    </tr>\n",
       "    <tr>\n",
       "      <th>2</th>\n",
       "      <td>B0000VLH8S</td>\n",
       "      <td>5</td>\n",
       "    </tr>\n",
       "    <tr>\n",
       "      <th>3</th>\n",
       "      <td>B0001PB9FE</td>\n",
       "      <td>1</td>\n",
       "    </tr>\n",
       "    <tr>\n",
       "      <th>4</th>\n",
       "      <td>B0001PB9FY</td>\n",
       "      <td>1</td>\n",
       "    </tr>\n",
       "    <tr>\n",
       "      <th>...</th>\n",
       "      <td>...</td>\n",
       "      <td>...</td>\n",
       "    </tr>\n",
       "    <tr>\n",
       "      <th>95</th>\n",
       "      <td>B0016PKA1C</td>\n",
       "      <td>23</td>\n",
       "    </tr>\n",
       "    <tr>\n",
       "      <th>96</th>\n",
       "      <td>B0017129DC</td>\n",
       "      <td>1</td>\n",
       "    </tr>\n",
       "    <tr>\n",
       "      <th>97</th>\n",
       "      <td>B0017165OG</td>\n",
       "      <td>1</td>\n",
       "    </tr>\n",
       "    <tr>\n",
       "      <th>98</th>\n",
       "      <td>B00171APVA</td>\n",
       "      <td>1</td>\n",
       "    </tr>\n",
       "    <tr>\n",
       "      <th>99</th>\n",
       "      <td>B0017I8UME</td>\n",
       "      <td>3</td>\n",
       "    </tr>\n",
       "  </tbody>\n",
       "</table>\n",
       "<p>100 rows × 2 columns</p>\n",
       "</div>"
      ],
      "text/plain": [
       "     ProductId  Count\n",
       "0   B00002Z754      2\n",
       "1   B000084E1U      1\n",
       "2   B0000VLH8S      5\n",
       "3   B0001PB9FE      1\n",
       "4   B0001PB9FY      1\n",
       "..         ...    ...\n",
       "95  B0016PKA1C     23\n",
       "96  B0017129DC      1\n",
       "97  B0017165OG      1\n",
       "98  B00171APVA      1\n",
       "99  B0017I8UME      3\n",
       "\n",
       "[100 rows x 2 columns]"
      ]
     },
     "execution_count": 19,
     "metadata": {},
     "output_type": "execute_result"
    }
   ],
   "source": [
    "product_counts = df.groupby('ProductId').size().reset_index(name='Count')\n",
    "product_counts.head(100)"
   ]
  },
  {
   "cell_type": "code",
   "execution_count": 20,
   "id": "c17fa0ba",
   "metadata": {
    "execution": {
     "iopub.execute_input": "2024-05-06T13:40:22.258729Z",
     "iopub.status.busy": "2024-05-06T13:40:22.257847Z",
     "iopub.status.idle": "2024-05-06T13:40:22.278923Z",
     "shell.execute_reply": "2024-05-06T13:40:22.278108Z"
    },
    "papermill": {
     "duration": 0.041518,
     "end_time": "2024-05-06T13:40:22.282104",
     "exception": false,
     "start_time": "2024-05-06T13:40:22.240586",
     "status": "completed"
    },
    "tags": []
   },
   "outputs": [
    {
     "data": {
      "text/html": [
       "<div>\n",
       "<style scoped>\n",
       "    .dataframe tbody tr th:only-of-type {\n",
       "        vertical-align: middle;\n",
       "    }\n",
       "\n",
       "    .dataframe tbody tr th {\n",
       "        vertical-align: top;\n",
       "    }\n",
       "\n",
       "    .dataframe thead th {\n",
       "        text-align: right;\n",
       "    }\n",
       "</style>\n",
       "<table border=\"1\" class=\"dataframe\">\n",
       "  <thead>\n",
       "    <tr style=\"text-align: right;\">\n",
       "      <th></th>\n",
       "      <th>Id</th>\n",
       "      <th>ProductId</th>\n",
       "      <th>UserId</th>\n",
       "      <th>ProfileName</th>\n",
       "      <th>HelpfulnessNumerator</th>\n",
       "      <th>HelpfulnessDenominator</th>\n",
       "      <th>Score</th>\n",
       "      <th>Time</th>\n",
       "      <th>Summary</th>\n",
       "      <th>Text</th>\n",
       "    </tr>\n",
       "  </thead>\n",
       "  <tbody>\n",
       "    <tr>\n",
       "      <th>0</th>\n",
       "      <td>1912</td>\n",
       "      <td>B0016PKA1C</td>\n",
       "      <td>A21KEWQVHOIHFJ</td>\n",
       "      <td>ocannie2002</td>\n",
       "      <td>14</td>\n",
       "      <td>14</td>\n",
       "      <td>2</td>\n",
       "      <td>1293321600</td>\n",
       "      <td>Found the solution on how to open it</td>\n",
       "      <td>I bought this because I had been seeing this p...</td>\n",
       "    </tr>\n",
       "    <tr>\n",
       "      <th>1</th>\n",
       "      <td>1913</td>\n",
       "      <td>B0016PKA1C</td>\n",
       "      <td>APHB4GY5WEVOP</td>\n",
       "      <td>Alan Howard \"AHowah\"</td>\n",
       "      <td>11</td>\n",
       "      <td>11</td>\n",
       "      <td>5</td>\n",
       "      <td>1244937600</td>\n",
       "      <td>WORKS FOR ME AND SAVES ME $$$$</td>\n",
       "      <td>This product works great for me.  I hate spend...</td>\n",
       "    </tr>\n",
       "    <tr>\n",
       "      <th>2</th>\n",
       "      <td>1914</td>\n",
       "      <td>B0016PKA1C</td>\n",
       "      <td>A1TPHJAGEOQZQJ</td>\n",
       "      <td>A. Paskow</td>\n",
       "      <td>7</td>\n",
       "      <td>7</td>\n",
       "      <td>5</td>\n",
       "      <td>1245024000</td>\n",
       "      <td>This thing is great!</td>\n",
       "      <td>I have had my herb savor for a few weeks now, ...</td>\n",
       "    </tr>\n",
       "    <tr>\n",
       "      <th>3</th>\n",
       "      <td>1915</td>\n",
       "      <td>B0016PKA1C</td>\n",
       "      <td>A1BFF0SPH2VZC4</td>\n",
       "      <td>A. Wise \"Ilikestuff\"</td>\n",
       "      <td>4</td>\n",
       "      <td>4</td>\n",
       "      <td>3</td>\n",
       "      <td>1265068800</td>\n",
       "      <td>A little hard to open</td>\n",
       "      <td>I bought this as a gift for my mother. She lik...</td>\n",
       "    </tr>\n",
       "    <tr>\n",
       "      <th>4</th>\n",
       "      <td>1916</td>\n",
       "      <td>B0016PKA1C</td>\n",
       "      <td>A1MPHD8OJTXR1R</td>\n",
       "      <td>A. Marvin</td>\n",
       "      <td>3</td>\n",
       "      <td>3</td>\n",
       "      <td>2</td>\n",
       "      <td>1266105600</td>\n",
       "      <td>Great concept, poor product</td>\n",
       "      <td>I have had the herb pods for about 6 months.  ...</td>\n",
       "    </tr>\n",
       "    <tr>\n",
       "      <th>5</th>\n",
       "      <td>1917</td>\n",
       "      <td>B0016PKA1C</td>\n",
       "      <td>A36LOFUR3U753Z</td>\n",
       "      <td>L Parr</td>\n",
       "      <td>2</td>\n",
       "      <td>2</td>\n",
       "      <td>2</td>\n",
       "      <td>1304380800</td>\n",
       "      <td>Too small, too hard to open</td>\n",
       "      <td>With no clear instructions on how to open and ...</td>\n",
       "    </tr>\n",
       "    <tr>\n",
       "      <th>6</th>\n",
       "      <td>1918</td>\n",
       "      <td>B0016PKA1C</td>\n",
       "      <td>A32F0SQ7I9PO0L</td>\n",
       "      <td>Barbara J. Conine</td>\n",
       "      <td>1</td>\n",
       "      <td>1</td>\n",
       "      <td>1</td>\n",
       "      <td>1331164800</td>\n",
       "      <td>can't open</td>\n",
       "      <td>Despite reading the reviews of others on how h...</td>\n",
       "    </tr>\n",
       "    <tr>\n",
       "      <th>7</th>\n",
       "      <td>1919</td>\n",
       "      <td>B0016PKA1C</td>\n",
       "      <td>A1T277YTLM09T9</td>\n",
       "      <td>B. Cooley</td>\n",
       "      <td>1</td>\n",
       "      <td>1</td>\n",
       "      <td>2</td>\n",
       "      <td>1323561600</td>\n",
       "      <td>Great idea, such a pain to open and close</td>\n",
       "      <td>The reviews on this are so true. Great idea, b...</td>\n",
       "    </tr>\n",
       "    <tr>\n",
       "      <th>8</th>\n",
       "      <td>1920</td>\n",
       "      <td>B0016PKA1C</td>\n",
       "      <td>A28SD5Y42J7K15</td>\n",
       "      <td>Ms Bailey</td>\n",
       "      <td>1</td>\n",
       "      <td>1</td>\n",
       "      <td>5</td>\n",
       "      <td>1311033600</td>\n",
       "      <td>Keeps basil on the counter...cat proof!</td>\n",
       "      <td>I've had trouble storing fresh basil because I...</td>\n",
       "    </tr>\n",
       "    <tr>\n",
       "      <th>9</th>\n",
       "      <td>1921</td>\n",
       "      <td>B0016PKA1C</td>\n",
       "      <td>A19OAB9Y3GT3SO</td>\n",
       "      <td>Jennifer</td>\n",
       "      <td>1</td>\n",
       "      <td>1</td>\n",
       "      <td>1</td>\n",
       "      <td>1305072000</td>\n",
       "      <td>Save your money!</td>\n",
       "      <td>I rarely write reviews, but these pods are so ...</td>\n",
       "    </tr>\n",
       "    <tr>\n",
       "      <th>10</th>\n",
       "      <td>1922</td>\n",
       "      <td>B0016PKA1C</td>\n",
       "      <td>A3BH4HA3R81GS1</td>\n",
       "      <td>kk</td>\n",
       "      <td>1</td>\n",
       "      <td>1</td>\n",
       "      <td>3</td>\n",
       "      <td>1303776000</td>\n",
       "      <td>keeps herbs fresh, looks nice--awkward to use</td>\n",
       "      <td>I've had a couple of these for a few years but...</td>\n",
       "    </tr>\n",
       "    <tr>\n",
       "      <th>11</th>\n",
       "      <td>1923</td>\n",
       "      <td>B0016PKA1C</td>\n",
       "      <td>A3SKJR85RGGZG7</td>\n",
       "      <td>goosedude \"goosedude\"</td>\n",
       "      <td>1</td>\n",
       "      <td>1</td>\n",
       "      <td>3</td>\n",
       "      <td>1300665600</td>\n",
       "      <td>Would be a great product....if it was easier t...</td>\n",
       "      <td>I got one of these for XMAS...and to be honest...</td>\n",
       "    </tr>\n",
       "    <tr>\n",
       "      <th>12</th>\n",
       "      <td>1924</td>\n",
       "      <td>B0016PKA1C</td>\n",
       "      <td>A2XXD7R9EOE6S1</td>\n",
       "      <td>Monica</td>\n",
       "      <td>1</td>\n",
       "      <td>1</td>\n",
       "      <td>2</td>\n",
       "      <td>1299715200</td>\n",
       "      <td>Works, but hard to open...Buy larger version i...</td>\n",
       "      <td>Even with the tips shared on how to open it, i...</td>\n",
       "    </tr>\n",
       "    <tr>\n",
       "      <th>13</th>\n",
       "      <td>1925</td>\n",
       "      <td>B0016PKA1C</td>\n",
       "      <td>A314KQRCVYGBO</td>\n",
       "      <td>ReadsTooMuch \"PJ\"</td>\n",
       "      <td>1</td>\n",
       "      <td>1</td>\n",
       "      <td>2</td>\n",
       "      <td>1295395200</td>\n",
       "      <td>Sorry Oprah, not one of my 'favorite things'</td>\n",
       "      <td>Saw this on Oprah's favorite things and though...</td>\n",
       "    </tr>\n",
       "    <tr>\n",
       "      <th>14</th>\n",
       "      <td>1926</td>\n",
       "      <td>B0016PKA1C</td>\n",
       "      <td>A14HZY7NHRZTZV</td>\n",
       "      <td>ESimons</td>\n",
       "      <td>1</td>\n",
       "      <td>1</td>\n",
       "      <td>2</td>\n",
       "      <td>1292803200</td>\n",
       "      <td>Wilted hopes</td>\n",
       "      <td>I wanted very much to like this product, but a...</td>\n",
       "    </tr>\n",
       "    <tr>\n",
       "      <th>15</th>\n",
       "      <td>1927</td>\n",
       "      <td>B0016PKA1C</td>\n",
       "      <td>A618BKNYH6AQC</td>\n",
       "      <td>J. Nolan</td>\n",
       "      <td>1</td>\n",
       "      <td>1</td>\n",
       "      <td>5</td>\n",
       "      <td>1273968000</td>\n",
       "      <td>just works</td>\n",
       "      <td>My wife bought me this for storing fresh herbs...</td>\n",
       "    </tr>\n",
       "    <tr>\n",
       "      <th>16</th>\n",
       "      <td>1928</td>\n",
       "      <td>B0016PKA1C</td>\n",
       "      <td>AFKOTNVXRB4GM</td>\n",
       "      <td>shopsalot</td>\n",
       "      <td>1</td>\n",
       "      <td>1</td>\n",
       "      <td>5</td>\n",
       "      <td>1267574400</td>\n",
       "      <td>WONDERFUL!!  This is perfect and saves me a fo...</td>\n",
       "      <td>I bought one of these about 4 or 5 months ago ...</td>\n",
       "    </tr>\n",
       "    <tr>\n",
       "      <th>17</th>\n",
       "      <td>1929</td>\n",
       "      <td>B0016PKA1C</td>\n",
       "      <td>A25BFBLWO5E43U</td>\n",
       "      <td>Eli B. Hariton</td>\n",
       "      <td>3</td>\n",
       "      <td>4</td>\n",
       "      <td>5</td>\n",
       "      <td>1245110400</td>\n",
       "      <td>Stylish Saver</td>\n",
       "      <td>I am a college student who loves to cook and t...</td>\n",
       "    </tr>\n",
       "    <tr>\n",
       "      <th>18</th>\n",
       "      <td>1930</td>\n",
       "      <td>B0016PKA1C</td>\n",
       "      <td>A38QPFGJOQCD2W</td>\n",
       "      <td>Giselle Jacques \"G. Sharp\"</td>\n",
       "      <td>6</td>\n",
       "      <td>9</td>\n",
       "      <td>1</td>\n",
       "      <td>1241308800</td>\n",
       "      <td>Caveat emptor! Disappointing</td>\n",
       "      <td>I've been told that the refrigerator of the fu...</td>\n",
       "    </tr>\n",
       "    <tr>\n",
       "      <th>19</th>\n",
       "      <td>1931</td>\n",
       "      <td>B0016PKA1C</td>\n",
       "      <td>A3CH8LYXEBGFDG</td>\n",
       "      <td>Sharon</td>\n",
       "      <td>2</td>\n",
       "      <td>3</td>\n",
       "      <td>1</td>\n",
       "      <td>1265155200</td>\n",
       "      <td>this gadget just doesn't do the job.</td>\n",
       "      <td>I threw this away after about a week of owners...</td>\n",
       "    </tr>\n",
       "    <tr>\n",
       "      <th>20</th>\n",
       "      <td>1932</td>\n",
       "      <td>B0016PKA1C</td>\n",
       "      <td>A1R1XBHTULVHBM</td>\n",
       "      <td>Scott</td>\n",
       "      <td>0</td>\n",
       "      <td>0</td>\n",
       "      <td>5</td>\n",
       "      <td>1348185600</td>\n",
       "      <td>Works great!</td>\n",
       "      <td>Actually saves my basil and cilantro for an ex...</td>\n",
       "    </tr>\n",
       "    <tr>\n",
       "      <th>21</th>\n",
       "      <td>1933</td>\n",
       "      <td>B0016PKA1C</td>\n",
       "      <td>AL5822LXTBSDO</td>\n",
       "      <td>S. Saites \"Garden Lover\"</td>\n",
       "      <td>0</td>\n",
       "      <td>0</td>\n",
       "      <td>2</td>\n",
       "      <td>1344211200</td>\n",
       "      <td>The Picture is Misleading</td>\n",
       "      <td>The Prepara Herb Savor Pod is advertised holdi...</td>\n",
       "    </tr>\n",
       "    <tr>\n",
       "      <th>22</th>\n",
       "      <td>1934</td>\n",
       "      <td>B0016PKA1C</td>\n",
       "      <td>APYLBMTTC7SVS</td>\n",
       "      <td>L. Dahlgren</td>\n",
       "      <td>0</td>\n",
       "      <td>0</td>\n",
       "      <td>5</td>\n",
       "      <td>1298073600</td>\n",
       "      <td>I am buying more!</td>\n",
       "      <td>I got this in my Christmas stocking from my st...</td>\n",
       "    </tr>\n",
       "  </tbody>\n",
       "</table>\n",
       "</div>"
      ],
      "text/plain": [
       "      Id   ProductId          UserId                 ProfileName  \\\n",
       "0   1912  B0016PKA1C  A21KEWQVHOIHFJ                 ocannie2002   \n",
       "1   1913  B0016PKA1C   APHB4GY5WEVOP        Alan Howard \"AHowah\"   \n",
       "2   1914  B0016PKA1C  A1TPHJAGEOQZQJ                   A. Paskow   \n",
       "3   1915  B0016PKA1C  A1BFF0SPH2VZC4        A. Wise \"Ilikestuff\"   \n",
       "4   1916  B0016PKA1C  A1MPHD8OJTXR1R                   A. Marvin   \n",
       "5   1917  B0016PKA1C  A36LOFUR3U753Z                      L Parr   \n",
       "6   1918  B0016PKA1C  A32F0SQ7I9PO0L           Barbara J. Conine   \n",
       "7   1919  B0016PKA1C  A1T277YTLM09T9                   B. Cooley   \n",
       "8   1920  B0016PKA1C  A28SD5Y42J7K15                   Ms Bailey   \n",
       "9   1921  B0016PKA1C  A19OAB9Y3GT3SO                    Jennifer   \n",
       "10  1922  B0016PKA1C  A3BH4HA3R81GS1                          kk   \n",
       "11  1923  B0016PKA1C  A3SKJR85RGGZG7       goosedude \"goosedude\"   \n",
       "12  1924  B0016PKA1C  A2XXD7R9EOE6S1                      Monica   \n",
       "13  1925  B0016PKA1C   A314KQRCVYGBO           ReadsTooMuch \"PJ\"   \n",
       "14  1926  B0016PKA1C  A14HZY7NHRZTZV                     ESimons   \n",
       "15  1927  B0016PKA1C   A618BKNYH6AQC                    J. Nolan   \n",
       "16  1928  B0016PKA1C   AFKOTNVXRB4GM                   shopsalot   \n",
       "17  1929  B0016PKA1C  A25BFBLWO5E43U              Eli B. Hariton   \n",
       "18  1930  B0016PKA1C  A38QPFGJOQCD2W  Giselle Jacques \"G. Sharp\"   \n",
       "19  1931  B0016PKA1C  A3CH8LYXEBGFDG                      Sharon   \n",
       "20  1932  B0016PKA1C  A1R1XBHTULVHBM                       Scott   \n",
       "21  1933  B0016PKA1C   AL5822LXTBSDO    S. Saites \"Garden Lover\"   \n",
       "22  1934  B0016PKA1C   APYLBMTTC7SVS                 L. Dahlgren   \n",
       "\n",
       "    HelpfulnessNumerator  HelpfulnessDenominator  Score        Time  \\\n",
       "0                     14                      14      2  1293321600   \n",
       "1                     11                      11      5  1244937600   \n",
       "2                      7                       7      5  1245024000   \n",
       "3                      4                       4      3  1265068800   \n",
       "4                      3                       3      2  1266105600   \n",
       "5                      2                       2      2  1304380800   \n",
       "6                      1                       1      1  1331164800   \n",
       "7                      1                       1      2  1323561600   \n",
       "8                      1                       1      5  1311033600   \n",
       "9                      1                       1      1  1305072000   \n",
       "10                     1                       1      3  1303776000   \n",
       "11                     1                       1      3  1300665600   \n",
       "12                     1                       1      2  1299715200   \n",
       "13                     1                       1      2  1295395200   \n",
       "14                     1                       1      2  1292803200   \n",
       "15                     1                       1      5  1273968000   \n",
       "16                     1                       1      5  1267574400   \n",
       "17                     3                       4      5  1245110400   \n",
       "18                     6                       9      1  1241308800   \n",
       "19                     2                       3      1  1265155200   \n",
       "20                     0                       0      5  1348185600   \n",
       "21                     0                       0      2  1344211200   \n",
       "22                     0                       0      5  1298073600   \n",
       "\n",
       "                                              Summary  \\\n",
       "0                Found the solution on how to open it   \n",
       "1                      WORKS FOR ME AND SAVES ME $$$$   \n",
       "2                                This thing is great!   \n",
       "3                               A little hard to open   \n",
       "4                         Great concept, poor product   \n",
       "5                         Too small, too hard to open   \n",
       "6                                          can't open   \n",
       "7           Great idea, such a pain to open and close   \n",
       "8             Keeps basil on the counter...cat proof!   \n",
       "9                                    Save your money!   \n",
       "10      keeps herbs fresh, looks nice--awkward to use   \n",
       "11  Would be a great product....if it was easier t...   \n",
       "12  Works, but hard to open...Buy larger version i...   \n",
       "13       Sorry Oprah, not one of my 'favorite things'   \n",
       "14                                       Wilted hopes   \n",
       "15                                         just works   \n",
       "16  WONDERFUL!!  This is perfect and saves me a fo...   \n",
       "17                                      Stylish Saver   \n",
       "18                       Caveat emptor! Disappointing   \n",
       "19               this gadget just doesn't do the job.   \n",
       "20                                       Works great!   \n",
       "21                          The Picture is Misleading   \n",
       "22                                  I am buying more!   \n",
       "\n",
       "                                                 Text  \n",
       "0   I bought this because I had been seeing this p...  \n",
       "1   This product works great for me.  I hate spend...  \n",
       "2   I have had my herb savor for a few weeks now, ...  \n",
       "3   I bought this as a gift for my mother. She lik...  \n",
       "4   I have had the herb pods for about 6 months.  ...  \n",
       "5   With no clear instructions on how to open and ...  \n",
       "6   Despite reading the reviews of others on how h...  \n",
       "7   The reviews on this are so true. Great idea, b...  \n",
       "8   I've had trouble storing fresh basil because I...  \n",
       "9   I rarely write reviews, but these pods are so ...  \n",
       "10  I've had a couple of these for a few years but...  \n",
       "11  I got one of these for XMAS...and to be honest...  \n",
       "12  Even with the tips shared on how to open it, i...  \n",
       "13  Saw this on Oprah's favorite things and though...  \n",
       "14  I wanted very much to like this product, but a...  \n",
       "15  My wife bought me this for storing fresh herbs...  \n",
       "16  I bought one of these about 4 or 5 months ago ...  \n",
       "17  I am a college student who loves to cook and t...  \n",
       "18  I've been told that the refrigerator of the fu...  \n",
       "19  I threw this away after about a week of owners...  \n",
       "20  Actually saves my basil and cilantro for an ex...  \n",
       "21  The Prepara Herb Savor Pod is advertised holdi...  \n",
       "22  I got this in my Christmas stocking from my st...  "
      ]
     },
     "execution_count": 20,
     "metadata": {},
     "output_type": "execute_result"
    }
   ],
   "source": [
    "newdf = df[df['ProductId'] == 'B0016PKA1C'].copy()\n",
    "\n",
    "# If you want to reset the index of the new DataFrame\n",
    "newdf.reset_index(drop=True, inplace=True)\n",
    "newdf.head(50)"
   ]
  },
  {
   "cell_type": "code",
   "execution_count": 21,
   "id": "fbced8b7",
   "metadata": {
    "execution": {
     "iopub.execute_input": "2024-05-06T13:40:22.316996Z",
     "iopub.status.busy": "2024-05-06T13:40:22.316375Z",
     "iopub.status.idle": "2024-05-06T13:40:25.053502Z",
     "shell.execute_reply": "2024-05-06T13:40:25.052418Z"
    },
    "papermill": {
     "duration": 2.757335,
     "end_time": "2024-05-06T13:40:25.055842",
     "exception": false,
     "start_time": "2024-05-06T13:40:22.298507",
     "status": "completed"
    },
    "tags": []
   },
   "outputs": [
    {
     "data": {
      "application/vnd.jupyter.widget-view+json": {
       "model_id": "9a36c86263f8460f850921a51056d06c",
       "version_major": 2,
       "version_minor": 0
      },
      "text/plain": [
       "  0%|          | 0/23 [00:00<?, ?it/s]"
      ]
     },
     "metadata": {},
     "output_type": "display_data"
    }
   ],
   "source": [
    "res = {}\n",
    "for i, row in tqdm(df.iterrows(), total=len(newdf)):\n",
    "    text = row['Text']\n",
    "    myid = row['Id']\n",
    "    res[myid] = sia.polarity_scores(text)"
   ]
  },
  {
   "cell_type": "code",
   "execution_count": 22,
   "id": "68f13db2",
   "metadata": {
    "execution": {
     "iopub.execute_input": "2024-05-06T13:40:25.093155Z",
     "iopub.status.busy": "2024-05-06T13:40:25.091614Z",
     "iopub.status.idle": "2024-05-06T13:40:25.284063Z",
     "shell.execute_reply": "2024-05-06T13:40:25.283224Z"
    },
    "papermill": {
     "duration": 0.213899,
     "end_time": "2024-05-06T13:40:25.286773",
     "exception": false,
     "start_time": "2024-05-06T13:40:25.072874",
     "status": "completed"
    },
    "tags": []
   },
   "outputs": [],
   "source": [
    "vaders = pd.DataFrame(res).T\n",
    "vaders = vaders.reset_index().rename(columns={'index': 'Id'})\n",
    "vaders = vaders.merge(newdf, how='left')"
   ]
  },
  {
   "cell_type": "code",
   "execution_count": 23,
   "id": "41eb32ce",
   "metadata": {
    "execution": {
     "iopub.execute_input": "2024-05-06T13:40:25.323528Z",
     "iopub.status.busy": "2024-05-06T13:40:25.321949Z",
     "iopub.status.idle": "2024-05-06T13:40:25.345588Z",
     "shell.execute_reply": "2024-05-06T13:40:25.343986Z"
    },
    "papermill": {
     "duration": 0.04501,
     "end_time": "2024-05-06T13:40:25.348516",
     "exception": false,
     "start_time": "2024-05-06T13:40:25.303506",
     "status": "completed"
    },
    "tags": []
   },
   "outputs": [
    {
     "data": {
      "text/html": [
       "<div>\n",
       "<style scoped>\n",
       "    .dataframe tbody tr th:only-of-type {\n",
       "        vertical-align: middle;\n",
       "    }\n",
       "\n",
       "    .dataframe tbody tr th {\n",
       "        vertical-align: top;\n",
       "    }\n",
       "\n",
       "    .dataframe thead th {\n",
       "        text-align: right;\n",
       "    }\n",
       "</style>\n",
       "<table border=\"1\" class=\"dataframe\">\n",
       "  <thead>\n",
       "    <tr style=\"text-align: right;\">\n",
       "      <th></th>\n",
       "      <th>Id</th>\n",
       "      <th>neg</th>\n",
       "      <th>neu</th>\n",
       "      <th>pos</th>\n",
       "      <th>compound</th>\n",
       "      <th>ProductId</th>\n",
       "      <th>UserId</th>\n",
       "      <th>ProfileName</th>\n",
       "      <th>HelpfulnessNumerator</th>\n",
       "      <th>HelpfulnessDenominator</th>\n",
       "      <th>Score</th>\n",
       "      <th>Time</th>\n",
       "      <th>Summary</th>\n",
       "      <th>Text</th>\n",
       "    </tr>\n",
       "  </thead>\n",
       "  <tbody>\n",
       "    <tr>\n",
       "      <th>0</th>\n",
       "      <td>1</td>\n",
       "      <td>0.000</td>\n",
       "      <td>0.695</td>\n",
       "      <td>0.305</td>\n",
       "      <td>0.9441</td>\n",
       "      <td>NaN</td>\n",
       "      <td>NaN</td>\n",
       "      <td>NaN</td>\n",
       "      <td>NaN</td>\n",
       "      <td>NaN</td>\n",
       "      <td>NaN</td>\n",
       "      <td>NaN</td>\n",
       "      <td>NaN</td>\n",
       "      <td>NaN</td>\n",
       "    </tr>\n",
       "    <tr>\n",
       "      <th>1</th>\n",
       "      <td>2</td>\n",
       "      <td>0.079</td>\n",
       "      <td>0.853</td>\n",
       "      <td>0.068</td>\n",
       "      <td>-0.1027</td>\n",
       "      <td>NaN</td>\n",
       "      <td>NaN</td>\n",
       "      <td>NaN</td>\n",
       "      <td>NaN</td>\n",
       "      <td>NaN</td>\n",
       "      <td>NaN</td>\n",
       "      <td>NaN</td>\n",
       "      <td>NaN</td>\n",
       "      <td>NaN</td>\n",
       "    </tr>\n",
       "    <tr>\n",
       "      <th>2</th>\n",
       "      <td>3</td>\n",
       "      <td>0.091</td>\n",
       "      <td>0.754</td>\n",
       "      <td>0.155</td>\n",
       "      <td>0.8265</td>\n",
       "      <td>NaN</td>\n",
       "      <td>NaN</td>\n",
       "      <td>NaN</td>\n",
       "      <td>NaN</td>\n",
       "      <td>NaN</td>\n",
       "      <td>NaN</td>\n",
       "      <td>NaN</td>\n",
       "      <td>NaN</td>\n",
       "      <td>NaN</td>\n",
       "    </tr>\n",
       "    <tr>\n",
       "      <th>3</th>\n",
       "      <td>4</td>\n",
       "      <td>0.000</td>\n",
       "      <td>1.000</td>\n",
       "      <td>0.000</td>\n",
       "      <td>0.0000</td>\n",
       "      <td>NaN</td>\n",
       "      <td>NaN</td>\n",
       "      <td>NaN</td>\n",
       "      <td>NaN</td>\n",
       "      <td>NaN</td>\n",
       "      <td>NaN</td>\n",
       "      <td>NaN</td>\n",
       "      <td>NaN</td>\n",
       "      <td>NaN</td>\n",
       "    </tr>\n",
       "    <tr>\n",
       "      <th>4</th>\n",
       "      <td>5</td>\n",
       "      <td>0.000</td>\n",
       "      <td>0.552</td>\n",
       "      <td>0.448</td>\n",
       "      <td>0.9468</td>\n",
       "      <td>NaN</td>\n",
       "      <td>NaN</td>\n",
       "      <td>NaN</td>\n",
       "      <td>NaN</td>\n",
       "      <td>NaN</td>\n",
       "      <td>NaN</td>\n",
       "      <td>NaN</td>\n",
       "      <td>NaN</td>\n",
       "      <td>NaN</td>\n",
       "    </tr>\n",
       "  </tbody>\n",
       "</table>\n",
       "</div>"
      ],
      "text/plain": [
       "   Id    neg    neu    pos  compound ProductId UserId ProfileName  \\\n",
       "0   1  0.000  0.695  0.305    0.9441       NaN    NaN         NaN   \n",
       "1   2  0.079  0.853  0.068   -0.1027       NaN    NaN         NaN   \n",
       "2   3  0.091  0.754  0.155    0.8265       NaN    NaN         NaN   \n",
       "3   4  0.000  1.000  0.000    0.0000       NaN    NaN         NaN   \n",
       "4   5  0.000  0.552  0.448    0.9468       NaN    NaN         NaN   \n",
       "\n",
       "   HelpfulnessNumerator  HelpfulnessDenominator  Score  Time Summary Text  \n",
       "0                   NaN                     NaN    NaN   NaN     NaN  NaN  \n",
       "1                   NaN                     NaN    NaN   NaN     NaN  NaN  \n",
       "2                   NaN                     NaN    NaN   NaN     NaN  NaN  \n",
       "3                   NaN                     NaN    NaN   NaN     NaN  NaN  \n",
       "4                   NaN                     NaN    NaN   NaN     NaN  NaN  "
      ]
     },
     "execution_count": 23,
     "metadata": {},
     "output_type": "execute_result"
    }
   ],
   "source": [
    "vaders.head()"
   ]
  },
  {
   "cell_type": "code",
   "execution_count": 24,
   "id": "c75eec25",
   "metadata": {
    "execution": {
     "iopub.execute_input": "2024-05-06T13:40:25.385066Z",
     "iopub.status.busy": "2024-05-06T13:40:25.384585Z",
     "iopub.status.idle": "2024-05-06T13:40:25.391582Z",
     "shell.execute_reply": "2024-05-06T13:40:25.390182Z"
    },
    "papermill": {
     "duration": 0.028268,
     "end_time": "2024-05-06T13:40:25.394006",
     "exception": false,
     "start_time": "2024-05-06T13:40:25.365738",
     "status": "completed"
    },
    "tags": []
   },
   "outputs": [],
   "source": [
    "sentiment_score = vaders['compound'].mean()"
   ]
  },
  {
   "cell_type": "code",
   "execution_count": 25,
   "id": "82393a1e",
   "metadata": {
    "execution": {
     "iopub.execute_input": "2024-05-06T13:40:25.430913Z",
     "iopub.status.busy": "2024-05-06T13:40:25.429978Z",
     "iopub.status.idle": "2024-05-06T13:40:25.439170Z",
     "shell.execute_reply": "2024-05-06T13:40:25.437687Z"
    },
    "papermill": {
     "duration": 0.0308,
     "end_time": "2024-05-06T13:40:25.442015",
     "exception": false,
     "start_time": "2024-05-06T13:40:25.411215",
     "status": "completed"
    },
    "tags": []
   },
   "outputs": [
    {
     "name": "stdout",
     "output_type": "stream",
     "text": [
      "Overall sentiment is very positive\n"
     ]
    }
   ],
   "source": [
    "if sentiment_score > -1 and sentiment_score <= -0.5:\n",
    "    print(\"Overall sentiment is very negative\")\n",
    "elif sentiment_score > -0.5 and sentiment_score <= -0.2:\n",
    "    print(\"Overall sentiment is negative\")\n",
    "elif sentiment_score > -0.2 and sentiment_score <= 0.2:\n",
    "    print('Overall sentiment is neutral')\n",
    "elif sentiment_score > 0.2 and sentiment_score <= 0.5:\n",
    "    print(\"Overall sentiment is positive\")\n",
    "else:\n",
    "    print(\"Overall sentiment is very positive\")"
   ]
  }
 ],
 "metadata": {
  "kaggle": {
   "accelerator": "none",
   "dataSources": [
    {
     "datasetId": 18,
     "sourceId": 2157,
     "sourceType": "datasetVersion"
    }
   ],
   "dockerImageVersionId": 30698,
   "isGpuEnabled": false,
   "isInternetEnabled": false,
   "language": "python",
   "sourceType": "notebook"
  },
  "kernelspec": {
   "display_name": "Python 3",
   "language": "python",
   "name": "python3"
  },
  "language_info": {
   "codemirror_mode": {
    "name": "ipython",
    "version": 3
   },
   "file_extension": ".py",
   "mimetype": "text/x-python",
   "name": "python",
   "nbconvert_exporter": "python",
   "pygments_lexer": "ipython3",
   "version": "3.10.13"
  },
  "papermill": {
   "default_parameters": {},
   "duration": 25.441499,
   "end_time": "2024-05-06T13:40:26.386089",
   "environment_variables": {},
   "exception": null,
   "input_path": "__notebook__.ipynb",
   "output_path": "__notebook__.ipynb",
   "parameters": {},
   "start_time": "2024-05-06T13:40:00.944590",
   "version": "2.5.0"
  },
  "widgets": {
   "application/vnd.jupyter.widget-state+json": {
    "state": {
     "0febd5a4f9fb461e85d211727451f075": {
      "model_module": "@jupyter-widgets/controls",
      "model_module_version": "1.5.0",
      "model_name": "FloatProgressModel",
      "state": {
       "_dom_classes": [],
       "_model_module": "@jupyter-widgets/controls",
       "_model_module_version": "1.5.0",
       "_model_name": "FloatProgressModel",
       "_view_count": null,
       "_view_module": "@jupyter-widgets/controls",
       "_view_module_version": "1.5.0",
       "_view_name": "ProgressView",
       "bar_style": "success",
       "description": "",
       "description_tooltip": null,
       "layout": "IPY_MODEL_fa9fe5629026406fa017dddb56ce1b9e",
       "max": 2000.0,
       "min": 0.0,
       "orientation": "horizontal",
       "style": "IPY_MODEL_2c3b96666629445c900febcfe232705a",
       "value": 2000.0
      }
     },
     "1066d4c27a9f427c97718a181a2c52ba": {
      "model_module": "@jupyter-widgets/controls",
      "model_module_version": "1.5.0",
      "model_name": "HTMLModel",
      "state": {
       "_dom_classes": [],
       "_model_module": "@jupyter-widgets/controls",
       "_model_module_version": "1.5.0",
       "_model_name": "HTMLModel",
       "_view_count": null,
       "_view_module": "@jupyter-widgets/controls",
       "_view_module_version": "1.5.0",
       "_view_name": "HTMLView",
       "description": "",
       "description_tooltip": null,
       "layout": "IPY_MODEL_f5a5405e880c473eb21cd8954e3d262e",
       "placeholder": "​",
       "style": "IPY_MODEL_898a0c9de81445d5b55688a02137a295",
       "value": "100%"
      }
     },
     "239250d7029f4e949f8b048b909524a1": {
      "model_module": "@jupyter-widgets/base",
      "model_module_version": "1.2.0",
      "model_name": "LayoutModel",
      "state": {
       "_model_module": "@jupyter-widgets/base",
       "_model_module_version": "1.2.0",
       "_model_name": "LayoutModel",
       "_view_count": null,
       "_view_module": "@jupyter-widgets/base",
       "_view_module_version": "1.2.0",
       "_view_name": "LayoutView",
       "align_content": null,
       "align_items": null,
       "align_self": null,
       "border": null,
       "bottom": null,
       "display": null,
       "flex": null,
       "flex_flow": null,
       "grid_area": null,
       "grid_auto_columns": null,
       "grid_auto_flow": null,
       "grid_auto_rows": null,
       "grid_column": null,
       "grid_gap": null,
       "grid_row": null,
       "grid_template_areas": null,
       "grid_template_columns": null,
       "grid_template_rows": null,
       "height": null,
       "justify_content": null,
       "justify_items": null,
       "left": null,
       "margin": null,
       "max_height": null,
       "max_width": null,
       "min_height": null,
       "min_width": null,
       "object_fit": null,
       "object_position": null,
       "order": null,
       "overflow": null,
       "overflow_x": null,
       "overflow_y": null,
       "padding": null,
       "right": null,
       "top": null,
       "visibility": null,
       "width": null
      }
     },
     "280e4852c9ee40e3876789530989a8c7": {
      "model_module": "@jupyter-widgets/controls",
      "model_module_version": "1.5.0",
      "model_name": "ProgressStyleModel",
      "state": {
       "_model_module": "@jupyter-widgets/controls",
       "_model_module_version": "1.5.0",
       "_model_name": "ProgressStyleModel",
       "_view_count": null,
       "_view_module": "@jupyter-widgets/base",
       "_view_module_version": "1.2.0",
       "_view_name": "StyleView",
       "bar_color": null,
       "description_width": ""
      }
     },
     "2c3b96666629445c900febcfe232705a": {
      "model_module": "@jupyter-widgets/controls",
      "model_module_version": "1.5.0",
      "model_name": "ProgressStyleModel",
      "state": {
       "_model_module": "@jupyter-widgets/controls",
       "_model_module_version": "1.5.0",
       "_model_name": "ProgressStyleModel",
       "_view_count": null,
       "_view_module": "@jupyter-widgets/base",
       "_view_module_version": "1.2.0",
       "_view_name": "StyleView",
       "bar_color": null,
       "description_width": ""
      }
     },
     "355177ad1653423ab017d9dff752a82e": {
      "model_module": "@jupyter-widgets/base",
      "model_module_version": "1.2.0",
      "model_name": "LayoutModel",
      "state": {
       "_model_module": "@jupyter-widgets/base",
       "_model_module_version": "1.2.0",
       "_model_name": "LayoutModel",
       "_view_count": null,
       "_view_module": "@jupyter-widgets/base",
       "_view_module_version": "1.2.0",
       "_view_name": "LayoutView",
       "align_content": null,
       "align_items": null,
       "align_self": null,
       "border": null,
       "bottom": null,
       "display": null,
       "flex": null,
       "flex_flow": null,
       "grid_area": null,
       "grid_auto_columns": null,
       "grid_auto_flow": null,
       "grid_auto_rows": null,
       "grid_column": null,
       "grid_gap": null,
       "grid_row": null,
       "grid_template_areas": null,
       "grid_template_columns": null,
       "grid_template_rows": null,
       "height": null,
       "justify_content": null,
       "justify_items": null,
       "left": null,
       "margin": null,
       "max_height": null,
       "max_width": null,
       "min_height": null,
       "min_width": null,
       "object_fit": null,
       "object_position": null,
       "order": null,
       "overflow": null,
       "overflow_x": null,
       "overflow_y": null,
       "padding": null,
       "right": null,
       "top": null,
       "visibility": null,
       "width": null
      }
     },
     "451f1ff53b2f4eeab2c2c4165112dd6f": {
      "model_module": "@jupyter-widgets/controls",
      "model_module_version": "1.5.0",
      "model_name": "FloatProgressModel",
      "state": {
       "_dom_classes": [],
       "_model_module": "@jupyter-widgets/controls",
       "_model_module_version": "1.5.0",
       "_model_name": "FloatProgressModel",
       "_view_count": null,
       "_view_module": "@jupyter-widgets/controls",
       "_view_module_version": "1.5.0",
       "_view_name": "ProgressView",
       "bar_style": "success",
       "description": "",
       "description_tooltip": null,
       "layout": "IPY_MODEL_355177ad1653423ab017d9dff752a82e",
       "max": 23.0,
       "min": 0.0,
       "orientation": "horizontal",
       "style": "IPY_MODEL_280e4852c9ee40e3876789530989a8c7",
       "value": 23.0
      }
     },
     "5a39e93804554d3687008dc039988671": {
      "model_module": "@jupyter-widgets/base",
      "model_module_version": "1.2.0",
      "model_name": "LayoutModel",
      "state": {
       "_model_module": "@jupyter-widgets/base",
       "_model_module_version": "1.2.0",
       "_model_name": "LayoutModel",
       "_view_count": null,
       "_view_module": "@jupyter-widgets/base",
       "_view_module_version": "1.2.0",
       "_view_name": "LayoutView",
       "align_content": null,
       "align_items": null,
       "align_self": null,
       "border": null,
       "bottom": null,
       "display": null,
       "flex": null,
       "flex_flow": null,
       "grid_area": null,
       "grid_auto_columns": null,
       "grid_auto_flow": null,
       "grid_auto_rows": null,
       "grid_column": null,
       "grid_gap": null,
       "grid_row": null,
       "grid_template_areas": null,
       "grid_template_columns": null,
       "grid_template_rows": null,
       "height": null,
       "justify_content": null,
       "justify_items": null,
       "left": null,
       "margin": null,
       "max_height": null,
       "max_width": null,
       "min_height": null,
       "min_width": null,
       "object_fit": null,
       "object_position": null,
       "order": null,
       "overflow": null,
       "overflow_x": null,
       "overflow_y": null,
       "padding": null,
       "right": null,
       "top": null,
       "visibility": null,
       "width": null
      }
     },
     "5dbf75c325874558874e2351b10c437c": {
      "model_module": "@jupyter-widgets/base",
      "model_module_version": "1.2.0",
      "model_name": "LayoutModel",
      "state": {
       "_model_module": "@jupyter-widgets/base",
       "_model_module_version": "1.2.0",
       "_model_name": "LayoutModel",
       "_view_count": null,
       "_view_module": "@jupyter-widgets/base",
       "_view_module_version": "1.2.0",
       "_view_name": "LayoutView",
       "align_content": null,
       "align_items": null,
       "align_self": null,
       "border": null,
       "bottom": null,
       "display": null,
       "flex": null,
       "flex_flow": null,
       "grid_area": null,
       "grid_auto_columns": null,
       "grid_auto_flow": null,
       "grid_auto_rows": null,
       "grid_column": null,
       "grid_gap": null,
       "grid_row": null,
       "grid_template_areas": null,
       "grid_template_columns": null,
       "grid_template_rows": null,
       "height": null,
       "justify_content": null,
       "justify_items": null,
       "left": null,
       "margin": null,
       "max_height": null,
       "max_width": null,
       "min_height": null,
       "min_width": null,
       "object_fit": null,
       "object_position": null,
       "order": null,
       "overflow": null,
       "overflow_x": null,
       "overflow_y": null,
       "padding": null,
       "right": null,
       "top": null,
       "visibility": null,
       "width": null
      }
     },
     "64e6a2f2e6024fa08f62830329c05d5e": {
      "model_module": "@jupyter-widgets/controls",
      "model_module_version": "1.5.0",
      "model_name": "DescriptionStyleModel",
      "state": {
       "_model_module": "@jupyter-widgets/controls",
       "_model_module_version": "1.5.0",
       "_model_name": "DescriptionStyleModel",
       "_view_count": null,
       "_view_module": "@jupyter-widgets/base",
       "_view_module_version": "1.2.0",
       "_view_name": "StyleView",
       "description_width": ""
      }
     },
     "6b4fc7efbc464b90b92c0ddf42f0f8fc": {
      "model_module": "@jupyter-widgets/controls",
      "model_module_version": "1.5.0",
      "model_name": "HTMLModel",
      "state": {
       "_dom_classes": [],
       "_model_module": "@jupyter-widgets/controls",
       "_model_module_version": "1.5.0",
       "_model_name": "HTMLModel",
       "_view_count": null,
       "_view_module": "@jupyter-widgets/controls",
       "_view_module_version": "1.5.0",
       "_view_name": "HTMLView",
       "description": "",
       "description_tooltip": null,
       "layout": "IPY_MODEL_f5cdeb5582b14d0ea9e3ac1032eefc7d",
       "placeholder": "​",
       "style": "IPY_MODEL_cbc9f1391b944642aebd20a37a491e6a",
       "value": " 2000/2000 [00:02&lt;00:00, 680.64it/s]"
      }
     },
     "898a0c9de81445d5b55688a02137a295": {
      "model_module": "@jupyter-widgets/controls",
      "model_module_version": "1.5.0",
      "model_name": "DescriptionStyleModel",
      "state": {
       "_model_module": "@jupyter-widgets/controls",
       "_model_module_version": "1.5.0",
       "_model_name": "DescriptionStyleModel",
       "_view_count": null,
       "_view_module": "@jupyter-widgets/base",
       "_view_module_version": "1.2.0",
       "_view_name": "StyleView",
       "description_width": ""
      }
     },
     "93215d5d09f8439dbbc5f837990adaa4": {
      "model_module": "@jupyter-widgets/controls",
      "model_module_version": "1.5.0",
      "model_name": "HTMLModel",
      "state": {
       "_dom_classes": [],
       "_model_module": "@jupyter-widgets/controls",
       "_model_module_version": "1.5.0",
       "_model_name": "HTMLModel",
       "_view_count": null,
       "_view_module": "@jupyter-widgets/controls",
       "_view_module_version": "1.5.0",
       "_view_name": "HTMLView",
       "description": "",
       "description_tooltip": null,
       "layout": "IPY_MODEL_e5780663d9a4451a931f9d6c8ea11d28",
       "placeholder": "​",
       "style": "IPY_MODEL_64e6a2f2e6024fa08f62830329c05d5e",
       "value": ""
      }
     },
     "9a36c86263f8460f850921a51056d06c": {
      "model_module": "@jupyter-widgets/controls",
      "model_module_version": "1.5.0",
      "model_name": "HBoxModel",
      "state": {
       "_dom_classes": [],
       "_model_module": "@jupyter-widgets/controls",
       "_model_module_version": "1.5.0",
       "_model_name": "HBoxModel",
       "_view_count": null,
       "_view_module": "@jupyter-widgets/controls",
       "_view_module_version": "1.5.0",
       "_view_name": "HBoxView",
       "box_style": "",
       "children": [
        "IPY_MODEL_93215d5d09f8439dbbc5f837990adaa4",
        "IPY_MODEL_451f1ff53b2f4eeab2c2c4165112dd6f",
        "IPY_MODEL_d8f426257ddb427190af6de231418fef"
       ],
       "layout": "IPY_MODEL_5a39e93804554d3687008dc039988671"
      }
     },
     "a444d8b0b98f4655a80b3acb2a515131": {
      "model_module": "@jupyter-widgets/controls",
      "model_module_version": "1.5.0",
      "model_name": "HBoxModel",
      "state": {
       "_dom_classes": [],
       "_model_module": "@jupyter-widgets/controls",
       "_model_module_version": "1.5.0",
       "_model_name": "HBoxModel",
       "_view_count": null,
       "_view_module": "@jupyter-widgets/controls",
       "_view_module_version": "1.5.0",
       "_view_name": "HBoxView",
       "box_style": "",
       "children": [
        "IPY_MODEL_1066d4c27a9f427c97718a181a2c52ba",
        "IPY_MODEL_0febd5a4f9fb461e85d211727451f075",
        "IPY_MODEL_6b4fc7efbc464b90b92c0ddf42f0f8fc"
       ],
       "layout": "IPY_MODEL_5dbf75c325874558874e2351b10c437c"
      }
     },
     "cbc9f1391b944642aebd20a37a491e6a": {
      "model_module": "@jupyter-widgets/controls",
      "model_module_version": "1.5.0",
      "model_name": "DescriptionStyleModel",
      "state": {
       "_model_module": "@jupyter-widgets/controls",
       "_model_module_version": "1.5.0",
       "_model_name": "DescriptionStyleModel",
       "_view_count": null,
       "_view_module": "@jupyter-widgets/base",
       "_view_module_version": "1.2.0",
       "_view_name": "StyleView",
       "description_width": ""
      }
     },
     "d8f426257ddb427190af6de231418fef": {
      "model_module": "@jupyter-widgets/controls",
      "model_module_version": "1.5.0",
      "model_name": "HTMLModel",
      "state": {
       "_dom_classes": [],
       "_model_module": "@jupyter-widgets/controls",
       "_model_module_version": "1.5.0",
       "_model_name": "HTMLModel",
       "_view_count": null,
       "_view_module": "@jupyter-widgets/controls",
       "_view_module_version": "1.5.0",
       "_view_name": "HTMLView",
       "description": "",
       "description_tooltip": null,
       "layout": "IPY_MODEL_239250d7029f4e949f8b048b909524a1",
       "placeholder": "​",
       "style": "IPY_MODEL_f2a081fb339548299e7e0772159ffcd5",
       "value": " 2000/? [00:02&lt;00:00, 687.13it/s]"
      }
     },
     "e5780663d9a4451a931f9d6c8ea11d28": {
      "model_module": "@jupyter-widgets/base",
      "model_module_version": "1.2.0",
      "model_name": "LayoutModel",
      "state": {
       "_model_module": "@jupyter-widgets/base",
       "_model_module_version": "1.2.0",
       "_model_name": "LayoutModel",
       "_view_count": null,
       "_view_module": "@jupyter-widgets/base",
       "_view_module_version": "1.2.0",
       "_view_name": "LayoutView",
       "align_content": null,
       "align_items": null,
       "align_self": null,
       "border": null,
       "bottom": null,
       "display": null,
       "flex": null,
       "flex_flow": null,
       "grid_area": null,
       "grid_auto_columns": null,
       "grid_auto_flow": null,
       "grid_auto_rows": null,
       "grid_column": null,
       "grid_gap": null,
       "grid_row": null,
       "grid_template_areas": null,
       "grid_template_columns": null,
       "grid_template_rows": null,
       "height": null,
       "justify_content": null,
       "justify_items": null,
       "left": null,
       "margin": null,
       "max_height": null,
       "max_width": null,
       "min_height": null,
       "min_width": null,
       "object_fit": null,
       "object_position": null,
       "order": null,
       "overflow": null,
       "overflow_x": null,
       "overflow_y": null,
       "padding": null,
       "right": null,
       "top": null,
       "visibility": null,
       "width": null
      }
     },
     "f2a081fb339548299e7e0772159ffcd5": {
      "model_module": "@jupyter-widgets/controls",
      "model_module_version": "1.5.0",
      "model_name": "DescriptionStyleModel",
      "state": {
       "_model_module": "@jupyter-widgets/controls",
       "_model_module_version": "1.5.0",
       "_model_name": "DescriptionStyleModel",
       "_view_count": null,
       "_view_module": "@jupyter-widgets/base",
       "_view_module_version": "1.2.0",
       "_view_name": "StyleView",
       "description_width": ""
      }
     },
     "f5a5405e880c473eb21cd8954e3d262e": {
      "model_module": "@jupyter-widgets/base",
      "model_module_version": "1.2.0",
      "model_name": "LayoutModel",
      "state": {
       "_model_module": "@jupyter-widgets/base",
       "_model_module_version": "1.2.0",
       "_model_name": "LayoutModel",
       "_view_count": null,
       "_view_module": "@jupyter-widgets/base",
       "_view_module_version": "1.2.0",
       "_view_name": "LayoutView",
       "align_content": null,
       "align_items": null,
       "align_self": null,
       "border": null,
       "bottom": null,
       "display": null,
       "flex": null,
       "flex_flow": null,
       "grid_area": null,
       "grid_auto_columns": null,
       "grid_auto_flow": null,
       "grid_auto_rows": null,
       "grid_column": null,
       "grid_gap": null,
       "grid_row": null,
       "grid_template_areas": null,
       "grid_template_columns": null,
       "grid_template_rows": null,
       "height": null,
       "justify_content": null,
       "justify_items": null,
       "left": null,
       "margin": null,
       "max_height": null,
       "max_width": null,
       "min_height": null,
       "min_width": null,
       "object_fit": null,
       "object_position": null,
       "order": null,
       "overflow": null,
       "overflow_x": null,
       "overflow_y": null,
       "padding": null,
       "right": null,
       "top": null,
       "visibility": null,
       "width": null
      }
     },
     "f5cdeb5582b14d0ea9e3ac1032eefc7d": {
      "model_module": "@jupyter-widgets/base",
      "model_module_version": "1.2.0",
      "model_name": "LayoutModel",
      "state": {
       "_model_module": "@jupyter-widgets/base",
       "_model_module_version": "1.2.0",
       "_model_name": "LayoutModel",
       "_view_count": null,
       "_view_module": "@jupyter-widgets/base",
       "_view_module_version": "1.2.0",
       "_view_name": "LayoutView",
       "align_content": null,
       "align_items": null,
       "align_self": null,
       "border": null,
       "bottom": null,
       "display": null,
       "flex": null,
       "flex_flow": null,
       "grid_area": null,
       "grid_auto_columns": null,
       "grid_auto_flow": null,
       "grid_auto_rows": null,
       "grid_column": null,
       "grid_gap": null,
       "grid_row": null,
       "grid_template_areas": null,
       "grid_template_columns": null,
       "grid_template_rows": null,
       "height": null,
       "justify_content": null,
       "justify_items": null,
       "left": null,
       "margin": null,
       "max_height": null,
       "max_width": null,
       "min_height": null,
       "min_width": null,
       "object_fit": null,
       "object_position": null,
       "order": null,
       "overflow": null,
       "overflow_x": null,
       "overflow_y": null,
       "padding": null,
       "right": null,
       "top": null,
       "visibility": null,
       "width": null
      }
     },
     "fa9fe5629026406fa017dddb56ce1b9e": {
      "model_module": "@jupyter-widgets/base",
      "model_module_version": "1.2.0",
      "model_name": "LayoutModel",
      "state": {
       "_model_module": "@jupyter-widgets/base",
       "_model_module_version": "1.2.0",
       "_model_name": "LayoutModel",
       "_view_count": null,
       "_view_module": "@jupyter-widgets/base",
       "_view_module_version": "1.2.0",
       "_view_name": "LayoutView",
       "align_content": null,
       "align_items": null,
       "align_self": null,
       "border": null,
       "bottom": null,
       "display": null,
       "flex": null,
       "flex_flow": null,
       "grid_area": null,
       "grid_auto_columns": null,
       "grid_auto_flow": null,
       "grid_auto_rows": null,
       "grid_column": null,
       "grid_gap": null,
       "grid_row": null,
       "grid_template_areas": null,
       "grid_template_columns": null,
       "grid_template_rows": null,
       "height": null,
       "justify_content": null,
       "justify_items": null,
       "left": null,
       "margin": null,
       "max_height": null,
       "max_width": null,
       "min_height": null,
       "min_width": null,
       "object_fit": null,
       "object_position": null,
       "order": null,
       "overflow": null,
       "overflow_x": null,
       "overflow_y": null,
       "padding": null,
       "right": null,
       "top": null,
       "visibility": null,
       "width": null
      }
     }
    },
    "version_major": 2,
    "version_minor": 0
   }
  }
 },
 "nbformat": 4,
 "nbformat_minor": 5
}
